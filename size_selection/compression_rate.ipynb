{
 "cells": [
  {
   "cell_type": "markdown",
   "metadata": {},
   "source": [
    "# Reasoning\n",
    "\n",
    "Let $s$ be the number of sentences in a corpus, $m$ the number of characters and $t(v)$ the number of tokens when tokenizing the corpus with vocabulary size $v$ and some tokenizer (e.g., wordpiece). Further let $c$ be the number of unique characters. \n",
    "\n",
    "We define the compression rate \n",
    "$r(v) = \\frac{t(v)}{m}$\n",
    "\n",
    "We want to model the function $r$. \n",
    "\n",
    "## Functional Form\n",
    "We know that it is an exponential function and has the following constraints: \n",
    "\n",
    "$r(c) = 1$\n",
    "\n",
    "$r(\\infty) = \\frac{t(v_{\\max})}{m} =: a$\n",
    "\n",
    "Let's model with \n",
    "$r_\\theta(x) = \\alpha (x / c)^\\beta + \\gamma$. \n",
    "With the constraints it holds: $\\gamma = a$ and  $\\alpha = 1 - a$. \n",
    "This gives us $r_\\theta(x) = (1 - a) (x / c)^\\beta + a$ and the only parameter is $\\beta$.\n",
    "\n",
    "We fit $\\beta$ with a simple linear regression. \n",
    "I.e., $\\log\\left(\\frac{(y - a)}{(1 - a)}\\right) = \\beta \\log\\left(\\frac{x}{c}\\right)$.\n",
    "\n",
    "## Overall process\n",
    "1. Sample uniform vocabulary sizes to get samples $[(v_1, r(v_1)), (v_2, r(v_2)), ...]$\n",
    "2. Given this data fit the linear regression without intercept to get $\\beta$. \n",
    "3. Now we have a model for our data. We want to sample according to the gradient (i.e., sample vocabulary sizes where the tokenization changes the most). Thus we can use simple inverse transform sampling (https://en.wikipedia.org/wiki/Inverse_transform_sampling) with our r_model\n",
    "\n",
    "## TODO\n",
    "This yields very small vocabulary sizes. Resolve this by adding a uniform prior...\n"
   ]
  },
  {
   "cell_type": "code",
   "execution_count": 1,
   "metadata": {},
   "outputs": [
    {
     "data": {
      "text/plain": [
       "'0.10.1'"
      ]
     },
     "execution_count": 1,
     "metadata": {},
     "output_type": "execute_result"
    }
   ],
   "source": [
    "import tokenizers\n",
    "tokenizers.__version__"
   ]
  },
  {
   "cell_type": "code",
   "execution_count": 2,
   "metadata": {},
   "outputs": [],
   "source": [
    "from scipy.optimize import curve_fit\n",
    "%matplotlib notebook\n",
    "import matplotlib.pyplot as plt\n",
    "import numpy as np"
   ]
  },
  {
   "cell_type": "code",
   "execution_count": 3,
   "metadata": {},
   "outputs": [
    {
     "ename": "ImportError",
     "evalue": "cannot import name 'Tokenizer' from 'tokenizer' (/Users/philipp/Dropbox/PhD/projects/subwordspaces/tokenizer.py)",
     "output_type": "error",
     "traceback": [
      "\u001b[0;31m---------------------------------------------------------------------------\u001b[0m",
      "\u001b[0;31mImportError\u001b[0m                               Traceback (most recent call last)",
      "\u001b[0;32m<ipython-input-3-50fef9b6e14d>\u001b[0m in \u001b[0;36m<module>\u001b[0;34m\u001b[0m\n\u001b[1;32m      1\u001b[0m \u001b[0;32mfrom\u001b[0m \u001b[0mdata\u001b[0m \u001b[0;32mimport\u001b[0m \u001b[0mPBC\u001b[0m\u001b[0;34m\u001b[0m\u001b[0;34m\u001b[0m\u001b[0m\n\u001b[0;32m----> 2\u001b[0;31m \u001b[0;32mfrom\u001b[0m \u001b[0manalyser\u001b[0m \u001b[0;32mimport\u001b[0m \u001b[0mCorpus\u001b[0m\u001b[0;34m\u001b[0m\u001b[0;34m\u001b[0m\u001b[0m\n\u001b[0m",
      "\u001b[0;32m~/Dropbox/PhD/projects/subwordspaces/analyser.py\u001b[0m in \u001b[0;36m<module>\u001b[0;34m\u001b[0m\n\u001b[1;32m      5\u001b[0m \u001b[0;32mimport\u001b[0m \u001b[0margparse\u001b[0m\u001b[0;34m\u001b[0m\u001b[0;34m\u001b[0m\u001b[0m\n\u001b[1;32m      6\u001b[0m \u001b[0;32mfrom\u001b[0m \u001b[0membedder\u001b[0m \u001b[0;32mimport\u001b[0m \u001b[0mEmbeddingTrainer\u001b[0m\u001b[0;34m\u001b[0m\u001b[0;34m\u001b[0m\u001b[0m\n\u001b[0;32m----> 7\u001b[0;31m \u001b[0;32mfrom\u001b[0m \u001b[0mtokenizer\u001b[0m \u001b[0;32mimport\u001b[0m \u001b[0mTokenizer\u001b[0m\u001b[0;34m\u001b[0m\u001b[0;34m\u001b[0m\u001b[0m\n\u001b[0m\u001b[1;32m      8\u001b[0m \u001b[0;32mimport\u001b[0m \u001b[0mmatplotlib\u001b[0m\u001b[0;34m.\u001b[0m\u001b[0mpyplot\u001b[0m \u001b[0;32mas\u001b[0m \u001b[0mplt\u001b[0m\u001b[0;34m\u001b[0m\u001b[0;34m\u001b[0m\u001b[0m\n\u001b[1;32m      9\u001b[0m \u001b[0;32mimport\u001b[0m \u001b[0mos\u001b[0m\u001b[0;34m\u001b[0m\u001b[0;34m\u001b[0m\u001b[0m\n",
      "\u001b[0;31mImportError\u001b[0m: cannot import name 'Tokenizer' from 'tokenizer' (/Users/philipp/Dropbox/PhD/projects/subwordspaces/tokenizer.py)"
     ]
    }
   ],
   "source": [
    "from data import PBC\n",
    "from analyser import Corpus"
   ]
  },
  {
   "cell_type": "code",
   "execution_count": 4,
   "metadata": {},
   "outputs": [],
   "source": [
    "pbc = PBC(\"/Users/philipp/Dropbox/data/2017_bible/corpus/\")"
   ]
  },
  {
   "cell_type": "code",
   "execution_count": 5,
   "metadata": {},
   "outputs": [
    {
     "name": "stderr",
     "output_type": "stream",
     "text": [
      "100%|██████████| 4/4 [00:00<00:00,  7.78it/s]\n"
     ]
    }
   ],
   "source": [
    "pbc = PBC(\"/Users/philipp/Dropbox/data/2017_bible/corpus/\")\n",
    "pbc.load_editions([\"eng_newworld2013\", \"deu_newworld\", \"zho_newworld\", \"swh_newworld\"])"
   ]
  },
  {
   "cell_type": "code",
   "execution_count": 115,
   "metadata": {},
   "outputs": [],
   "source": [
    "import collections\n",
    "from typing import Text, List, Callable, Dict, Union, Any\n",
    "import numpy as np\n",
    "from tqdm import tqdm\n",
    "import argparse\n",
    "from embedder import EmbeddingTrainer\n",
    "from tokenizer import Tokenizer\n",
    "import matplotlib.pyplot as plt\n",
    "import os\n",
    "from sklearn.linear_model import LinearRegression\n",
    "import numpy as np\n",
    "import json\n",
    "from tokenizers import Tokenizer\n",
    "from tokenizers.models import BPE, WordPiece\n",
    "from tokenizers.trainers import BpeTrainer, WordPieceTrainer\n",
    "from tokenizers.pre_tokenizers import Whitespace\n",
    "\n",
    "\n",
    "class TokenizerWrapper(object):\n",
    "    def __init__(self, mode: Text):\n",
    "        self.mode = mode\n",
    "    \n",
    "    def get_tokenizer(self, vocab_size: int):\n",
    "        if self.mode == \"BPE\":\n",
    "            self.tokenizer = Tokenizer(BPE(unk_token=\"[UNK]\"))\n",
    "            self.tokenizer.pre_tokenizer = Whitespace()\n",
    "            self.trainer = BpeTrainer(special_tokens=[\"[UNK]\", \"[CLS]\", \"[SEP]\", \"[PAD]\", \"[MASK]\"], vocab_size=vocab_size)\n",
    "        elif self.mode == \"Wordpiece\":\n",
    "            self.tokenizer = Tokenizer(WordPiece(unk_token=\"[UNK]\"))\n",
    "            self.tokenizer.pre_tokenizer = Whitespace()\n",
    "            self.trainer = WordPieceTrainer(vocab_size=vocab_size, special_tokens=[\"[UNK]\", \"[CLS]\", \"[SEP]\", \"[PAD]\", \"[MASK]\"])\n",
    "        else:\n",
    "            raise ValueError(f\"Unknown mode: {self.mode}\")\n",
    "\n",
    "    def fit(self, data: Union[Text, List[Text]], vocab_size: int):\n",
    "        self.get_tokenizer(vocab_size)\n",
    "        if isinstance(data, str):\n",
    "            self.tokenizer.train(data, trainer=self.trainer)\n",
    "        else:\n",
    "            self.tokenizer.train_from_iterator(data, trainer=self.trainer)\n",
    "    \n",
    "    def save(self, outpath: Text): \n",
    "        self.tokenizer.save(outpath)\n",
    "    \n",
    "    def load(self, path: Text):\n",
    "        self.tokenizer.from_file(path)\n",
    "\n",
    "\n",
    "\n",
    "\n",
    "class VocabSizeSampler(object):\n",
    "    \"\"\"docstring for VocabSizeSampler\n",
    "    TODO add uniform prior such that we get a more heavy tail\"\"\"\n",
    "\n",
    "    def __init__(self, eps=1e-2):\n",
    "        self.params = {}\n",
    "        self.eps = eps\n",
    "\n",
    "    def load_parameters(self, file: Text):\n",
    "        with open(file, \"r\") as fin:\n",
    "            self.params = json.load(fin)\n",
    "\n",
    "    def save_parameters(self, file: Text):\n",
    "        outpath = os.path.join(file, \"params.json\")\n",
    "        if os.path.exists(outpath):\n",
    "            print(f\"Warning, file exists: {outpath}\")\n",
    "        with open(file, \"w\") as outpath:\n",
    "            json.dump(self.params, outpath)\n",
    "\n",
    "    def sample(self, n_samples: int) -> List[int]:\n",
    "        # sample using the inverse transform sampling\n",
    "        uniforms = np.random.uniform(low=self.params[\"a\"], high=1.0, size=n_samples)\n",
    "        return [round(self.f_inv(u)) for u in uniforms]\n",
    "    \n",
    "    def f(self, x):\n",
    "        return (1 - self.params[\"a\"]) * (np.array(x) / self.params[\"c\"]) ** self.params['beta'] + self.params[\"a\"]\n",
    "    \n",
    "    def f_inv(self, x):\n",
    "        return ((x - self.params[\"a\"]) / (1 - self.params[\"a\"])) ** (1 / self.params[\"beta\"]) * self.params[\"c\"]\n",
    "\n",
    "    def f_grad(self, x):\n",
    "        # not required\n",
    "        return (1 - self.params[\"a\"]) * self.params[\"beta\"] * (1 / self.params[\"c\"]) * (np.array(x) / self.params[\"c\"]) ** (self.params['beta'] - 1)\n",
    "\n",
    "    def f_grad_inv(self, x):\n",
    "        # not required\n",
    "        return self.params[\"c\"] * (self.params[\"c\"] * x / (self.params[\"beta\"] * (1 - self.params[\"a\"]))) ** (1 / (self.params[\"beta\"] - 1))\n",
    "    \n",
    "    def plot_fit(self):\n",
    "        xs, ys = zip(*self.compression.items())\n",
    "        plt.scatter(xs, ys)\n",
    "        plt.scatter(xs, [self.f(x) for x in xs], color=\"r\")\n",
    "        plt.show()\n",
    "\n",
    "    def fit_regression(self, vocab_sizes: List[float], compression_rates: List[float]) -> None:\n",
    "        # compute parameters\n",
    "        # functional form: y = f_beta(x) = (1 - a) (x / c)^beta + a\n",
    "        # where a = horizontal asymptote, i.e., min(compression_rates) - eps\n",
    "        # and c = min(vocab_sizes), i.e., the number of characters in the corpus\n",
    "        y = np.array(compression_rates)\n",
    "        a = min(y) - self.eps\n",
    "        y = (y - a) / (1 - a)\n",
    "        xs = vocab_sizes\n",
    "        c = min(xs)\n",
    "        x = np.array(vocab_sizes) / c\n",
    "        lr = LinearRegression(fit_intercept=False)\n",
    "        lr.fit(np.log(x.reshape(-1, 1)), np.log(y))\n",
    "        self.params = {\"beta\": float(lr.coef_),\n",
    "                       \"a\": a,\n",
    "                       \"c\": c,\n",
    "                       \"lower\": int(self.vocab_size_min), \n",
    "                       \"upper\": int(self.vocab_size_max)}\n",
    "    \n",
    "    def set_corpus(self, data: List[Text]) -> None:\n",
    "        self.data = data\n",
    "    \n",
    "    def set_tokenizer(self, tokenizer: TokenizerWrapper):\n",
    "        self.tok = tokenizer\n",
    "        # get true max and min vocab size with the tokenizer\n",
    "        self.tok.fit(self.data, 0)\n",
    "        self.vocab_size_min = self.tok.tokenizer.get_vocab_size()\n",
    "        self.denominator = self.get_tokenization_length()\n",
    "        self.tok.fit(self.data, 999999999)\n",
    "        self.vocab_size_max = self.tok.tokenizer.get_vocab_size()\n",
    "        print(f\"Min vocab size: {self.vocab_size_min}\")\n",
    "        print(f\"Max vocab size: {self.vocab_size_max}\")\n",
    "    \n",
    "    def get_tokenization_length(self):\n",
    "        length = 0\n",
    "        for sentence in self.data:\n",
    "            length += len(self.tok.tokenizer.encode(sentence).tokens)\n",
    "        return length\n",
    "        \n",
    "    def get_compression_rates(self, outpath: Text, n_samples: int = 10) -> None:\n",
    "        # do uniform sampling\n",
    "        vocab_sizes = [self.vocab_size_min] + [int(x) for x in np.random.uniform(low=self.vocab_size_min, high=self.vocab_size_max, size=n_samples)] + [self.vocab_size_max]\n",
    "        compression = {}\n",
    "        for vocab_size in tqdm(vocab_sizes, desc=\"samples\"):\n",
    "            self.tok.fit(self.data, vocab_size)\n",
    "            rate = self.get_tokenization_length() / self.denominator\n",
    "            compression[self.tok.tokenizer.get_vocab_size()] = rate\n",
    "            if outpath:\n",
    "                os.path.makedirs(os.path.join(outpath, vocab_size))\n",
    "                self.tok.save(os.path.join(outpath, vocab_size))\n",
    "                with open(os.path.join(outpath, vocab_size, \"rates.json\"), \"w\") as fout:\n",
    "                    json.dump(compression, fout) \n",
    "        self.compression = compression\n",
    "        compression_sorted = sorted(compression.items(), key= lambda x: x[0])\n",
    "        self.fit_regression(*zip(*compression_sorted))\n",
    "        if outpath:\n",
    "            self.save_parameters(outpath)"
   ]
  },
  {
   "cell_type": "code",
   "execution_count": 116,
   "metadata": {},
   "outputs": [
    {
     "data": {
      "text/plain": [
       "['Das', 'i', '##st', 'e', '##in', 'Te', '##st', '.', '[UNK]']"
      ]
     },
     "execution_count": 116,
     "metadata": {},
     "output_type": "execute_result"
    }
   ],
   "source": [
    "tokwrapper = TokenizerWrapper(\"Wordpiece\")\n",
    "tokwrapper.fit([\"Das ist ein Test.\", \"Ein anderer Satz.\", \"das WETTER iSt schön.\"], 50)\n",
    "tokwrapper.tokenizer.encode(\"Das ist ein Test. üt\").tokens"
   ]
  },
  {
   "cell_type": "code",
   "execution_count": 117,
   "metadata": {},
   "outputs": [
    {
     "name": "stderr",
     "output_type": "stream",
     "text": [
      "\n",
      "samples:   0%|          | 0/4 [00:00<?, ?it/s]\u001b[A"
     ]
    },
    {
     "name": "stdout",
     "output_type": "stream",
     "text": [
      "Min vocab size: 3413\n",
      "Max vocab size: 29717\n"
     ]
    },
    {
     "name": "stderr",
     "output_type": "stream",
     "text": [
      "\n",
      "samples:  25%|██▌       | 1/4 [00:03<00:09,  3.28s/it]\u001b[A\n",
      "samples:  50%|█████     | 2/4 [00:06<00:06,  3.23s/it]\u001b[A\n",
      "samples:  75%|███████▌  | 3/4 [00:09<00:03,  3.10s/it]\u001b[A\n",
      "samples: 100%|██████████| 4/4 [00:12<00:00,  3.19s/it]\u001b[A\n"
     ]
    }
   ],
   "source": [
    "tokwrapper = TokenizerWrapper(\"BPE\")\n",
    "sampler = VocabSizeSampler(eps=0.01)\n",
    "#sampler.set_corpus(pbc.text[\"eng\"][\"eng_newworld2013\"].values())\n",
    "sampler.set_corpus(pbc.text[\"zho\"][\"zho_newworld\"].values())\n",
    "sampler.set_tokenizer(tokwrapper)\n",
    "sampler.get_compression_rates(None, 2)\n"
   ]
  },
  {
   "cell_type": "code",
   "execution_count": 118,
   "metadata": {
    "scrolled": true
   },
   "outputs": [
    {
     "data": {
      "application/javascript": [
       "/* Put everything inside the global mpl namespace */\n",
       "/* global mpl */\n",
       "window.mpl = {};\n",
       "\n",
       "mpl.get_websocket_type = function () {\n",
       "    if (typeof WebSocket !== 'undefined') {\n",
       "        return WebSocket;\n",
       "    } else if (typeof MozWebSocket !== 'undefined') {\n",
       "        return MozWebSocket;\n",
       "    } else {\n",
       "        alert(\n",
       "            'Your browser does not have WebSocket support. ' +\n",
       "                'Please try Chrome, Safari or Firefox ≥ 6. ' +\n",
       "                'Firefox 4 and 5 are also supported but you ' +\n",
       "                'have to enable WebSockets in about:config.'\n",
       "        );\n",
       "    }\n",
       "};\n",
       "\n",
       "mpl.figure = function (figure_id, websocket, ondownload, parent_element) {\n",
       "    this.id = figure_id;\n",
       "\n",
       "    this.ws = websocket;\n",
       "\n",
       "    this.supports_binary = this.ws.binaryType !== undefined;\n",
       "\n",
       "    if (!this.supports_binary) {\n",
       "        var warnings = document.getElementById('mpl-warnings');\n",
       "        if (warnings) {\n",
       "            warnings.style.display = 'block';\n",
       "            warnings.textContent =\n",
       "                'This browser does not support binary websocket messages. ' +\n",
       "                'Performance may be slow.';\n",
       "        }\n",
       "    }\n",
       "\n",
       "    this.imageObj = new Image();\n",
       "\n",
       "    this.context = undefined;\n",
       "    this.message = undefined;\n",
       "    this.canvas = undefined;\n",
       "    this.rubberband_canvas = undefined;\n",
       "    this.rubberband_context = undefined;\n",
       "    this.format_dropdown = undefined;\n",
       "\n",
       "    this.image_mode = 'full';\n",
       "\n",
       "    this.root = document.createElement('div');\n",
       "    this.root.setAttribute('style', 'display: inline-block');\n",
       "    this._root_extra_style(this.root);\n",
       "\n",
       "    parent_element.appendChild(this.root);\n",
       "\n",
       "    this._init_header(this);\n",
       "    this._init_canvas(this);\n",
       "    this._init_toolbar(this);\n",
       "\n",
       "    var fig = this;\n",
       "\n",
       "    this.waiting = false;\n",
       "\n",
       "    this.ws.onopen = function () {\n",
       "        fig.send_message('supports_binary', { value: fig.supports_binary });\n",
       "        fig.send_message('send_image_mode', {});\n",
       "        if (fig.ratio !== 1) {\n",
       "            fig.send_message('set_dpi_ratio', { dpi_ratio: fig.ratio });\n",
       "        }\n",
       "        fig.send_message('refresh', {});\n",
       "    };\n",
       "\n",
       "    this.imageObj.onload = function () {\n",
       "        if (fig.image_mode === 'full') {\n",
       "            // Full images could contain transparency (where diff images\n",
       "            // almost always do), so we need to clear the canvas so that\n",
       "            // there is no ghosting.\n",
       "            fig.context.clearRect(0, 0, fig.canvas.width, fig.canvas.height);\n",
       "        }\n",
       "        fig.context.drawImage(fig.imageObj, 0, 0);\n",
       "    };\n",
       "\n",
       "    this.imageObj.onunload = function () {\n",
       "        fig.ws.close();\n",
       "    };\n",
       "\n",
       "    this.ws.onmessage = this._make_on_message_function(this);\n",
       "\n",
       "    this.ondownload = ondownload;\n",
       "};\n",
       "\n",
       "mpl.figure.prototype._init_header = function () {\n",
       "    var titlebar = document.createElement('div');\n",
       "    titlebar.classList =\n",
       "        'ui-dialog-titlebar ui-widget-header ui-corner-all ui-helper-clearfix';\n",
       "    var titletext = document.createElement('div');\n",
       "    titletext.classList = 'ui-dialog-title';\n",
       "    titletext.setAttribute(\n",
       "        'style',\n",
       "        'width: 100%; text-align: center; padding: 3px;'\n",
       "    );\n",
       "    titlebar.appendChild(titletext);\n",
       "    this.root.appendChild(titlebar);\n",
       "    this.header = titletext;\n",
       "};\n",
       "\n",
       "mpl.figure.prototype._canvas_extra_style = function (_canvas_div) {};\n",
       "\n",
       "mpl.figure.prototype._root_extra_style = function (_canvas_div) {};\n",
       "\n",
       "mpl.figure.prototype._init_canvas = function () {\n",
       "    var fig = this;\n",
       "\n",
       "    var canvas_div = (this.canvas_div = document.createElement('div'));\n",
       "    canvas_div.setAttribute(\n",
       "        'style',\n",
       "        'border: 1px solid #ddd;' +\n",
       "            'box-sizing: content-box;' +\n",
       "            'clear: both;' +\n",
       "            'min-height: 1px;' +\n",
       "            'min-width: 1px;' +\n",
       "            'outline: 0;' +\n",
       "            'overflow: hidden;' +\n",
       "            'position: relative;' +\n",
       "            'resize: both;'\n",
       "    );\n",
       "\n",
       "    function on_keyboard_event_closure(name) {\n",
       "        return function (event) {\n",
       "            return fig.key_event(event, name);\n",
       "        };\n",
       "    }\n",
       "\n",
       "    canvas_div.addEventListener(\n",
       "        'keydown',\n",
       "        on_keyboard_event_closure('key_press')\n",
       "    );\n",
       "    canvas_div.addEventListener(\n",
       "        'keyup',\n",
       "        on_keyboard_event_closure('key_release')\n",
       "    );\n",
       "\n",
       "    this._canvas_extra_style(canvas_div);\n",
       "    this.root.appendChild(canvas_div);\n",
       "\n",
       "    var canvas = (this.canvas = document.createElement('canvas'));\n",
       "    canvas.classList.add('mpl-canvas');\n",
       "    canvas.setAttribute('style', 'box-sizing: content-box;');\n",
       "\n",
       "    this.context = canvas.getContext('2d');\n",
       "\n",
       "    var backingStore =\n",
       "        this.context.backingStorePixelRatio ||\n",
       "        this.context.webkitBackingStorePixelRatio ||\n",
       "        this.context.mozBackingStorePixelRatio ||\n",
       "        this.context.msBackingStorePixelRatio ||\n",
       "        this.context.oBackingStorePixelRatio ||\n",
       "        this.context.backingStorePixelRatio ||\n",
       "        1;\n",
       "\n",
       "    this.ratio = (window.devicePixelRatio || 1) / backingStore;\n",
       "    if (this.ratio !== 1) {\n",
       "        fig.send_message('set_dpi_ratio', { dpi_ratio: this.ratio });\n",
       "    }\n",
       "\n",
       "    var rubberband_canvas = (this.rubberband_canvas = document.createElement(\n",
       "        'canvas'\n",
       "    ));\n",
       "    rubberband_canvas.setAttribute(\n",
       "        'style',\n",
       "        'box-sizing: content-box; position: absolute; left: 0; top: 0; z-index: 1;'\n",
       "    );\n",
       "\n",
       "    var resizeObserver = new ResizeObserver(function (entries) {\n",
       "        var nentries = entries.length;\n",
       "        for (var i = 0; i < nentries; i++) {\n",
       "            var entry = entries[i];\n",
       "            var width, height;\n",
       "            if (entry.contentBoxSize) {\n",
       "                if (entry.contentBoxSize instanceof Array) {\n",
       "                    // Chrome 84 implements new version of spec.\n",
       "                    width = entry.contentBoxSize[0].inlineSize;\n",
       "                    height = entry.contentBoxSize[0].blockSize;\n",
       "                } else {\n",
       "                    // Firefox implements old version of spec.\n",
       "                    width = entry.contentBoxSize.inlineSize;\n",
       "                    height = entry.contentBoxSize.blockSize;\n",
       "                }\n",
       "            } else {\n",
       "                // Chrome <84 implements even older version of spec.\n",
       "                width = entry.contentRect.width;\n",
       "                height = entry.contentRect.height;\n",
       "            }\n",
       "\n",
       "            // Keep the size of the canvas and rubber band canvas in sync with\n",
       "            // the canvas container.\n",
       "            if (entry.devicePixelContentBoxSize) {\n",
       "                // Chrome 84 implements new version of spec.\n",
       "                canvas.setAttribute(\n",
       "                    'width',\n",
       "                    entry.devicePixelContentBoxSize[0].inlineSize\n",
       "                );\n",
       "                canvas.setAttribute(\n",
       "                    'height',\n",
       "                    entry.devicePixelContentBoxSize[0].blockSize\n",
       "                );\n",
       "            } else {\n",
       "                canvas.setAttribute('width', width * fig.ratio);\n",
       "                canvas.setAttribute('height', height * fig.ratio);\n",
       "            }\n",
       "            canvas.setAttribute(\n",
       "                'style',\n",
       "                'width: ' + width + 'px; height: ' + height + 'px;'\n",
       "            );\n",
       "\n",
       "            rubberband_canvas.setAttribute('width', width);\n",
       "            rubberband_canvas.setAttribute('height', height);\n",
       "\n",
       "            // And update the size in Python. We ignore the initial 0/0 size\n",
       "            // that occurs as the element is placed into the DOM, which should\n",
       "            // otherwise not happen due to the minimum size styling.\n",
       "            if (width != 0 && height != 0) {\n",
       "                fig.request_resize(width, height);\n",
       "            }\n",
       "        }\n",
       "    });\n",
       "    resizeObserver.observe(canvas_div);\n",
       "\n",
       "    function on_mouse_event_closure(name) {\n",
       "        return function (event) {\n",
       "            return fig.mouse_event(event, name);\n",
       "        };\n",
       "    }\n",
       "\n",
       "    rubberband_canvas.addEventListener(\n",
       "        'mousedown',\n",
       "        on_mouse_event_closure('button_press')\n",
       "    );\n",
       "    rubberband_canvas.addEventListener(\n",
       "        'mouseup',\n",
       "        on_mouse_event_closure('button_release')\n",
       "    );\n",
       "    // Throttle sequential mouse events to 1 every 20ms.\n",
       "    rubberband_canvas.addEventListener(\n",
       "        'mousemove',\n",
       "        on_mouse_event_closure('motion_notify')\n",
       "    );\n",
       "\n",
       "    rubberband_canvas.addEventListener(\n",
       "        'mouseenter',\n",
       "        on_mouse_event_closure('figure_enter')\n",
       "    );\n",
       "    rubberband_canvas.addEventListener(\n",
       "        'mouseleave',\n",
       "        on_mouse_event_closure('figure_leave')\n",
       "    );\n",
       "\n",
       "    canvas_div.addEventListener('wheel', function (event) {\n",
       "        if (event.deltaY < 0) {\n",
       "            event.step = 1;\n",
       "        } else {\n",
       "            event.step = -1;\n",
       "        }\n",
       "        on_mouse_event_closure('scroll')(event);\n",
       "    });\n",
       "\n",
       "    canvas_div.appendChild(canvas);\n",
       "    canvas_div.appendChild(rubberband_canvas);\n",
       "\n",
       "    this.rubberband_context = rubberband_canvas.getContext('2d');\n",
       "    this.rubberband_context.strokeStyle = '#000000';\n",
       "\n",
       "    this._resize_canvas = function (width, height, forward) {\n",
       "        if (forward) {\n",
       "            canvas_div.style.width = width + 'px';\n",
       "            canvas_div.style.height = height + 'px';\n",
       "        }\n",
       "    };\n",
       "\n",
       "    // Disable right mouse context menu.\n",
       "    this.rubberband_canvas.addEventListener('contextmenu', function (_e) {\n",
       "        event.preventDefault();\n",
       "        return false;\n",
       "    });\n",
       "\n",
       "    function set_focus() {\n",
       "        canvas.focus();\n",
       "        canvas_div.focus();\n",
       "    }\n",
       "\n",
       "    window.setTimeout(set_focus, 100);\n",
       "};\n",
       "\n",
       "mpl.figure.prototype._init_toolbar = function () {\n",
       "    var fig = this;\n",
       "\n",
       "    var toolbar = document.createElement('div');\n",
       "    toolbar.classList = 'mpl-toolbar';\n",
       "    this.root.appendChild(toolbar);\n",
       "\n",
       "    function on_click_closure(name) {\n",
       "        return function (_event) {\n",
       "            return fig.toolbar_button_onclick(name);\n",
       "        };\n",
       "    }\n",
       "\n",
       "    function on_mouseover_closure(tooltip) {\n",
       "        return function (event) {\n",
       "            if (!event.currentTarget.disabled) {\n",
       "                return fig.toolbar_button_onmouseover(tooltip);\n",
       "            }\n",
       "        };\n",
       "    }\n",
       "\n",
       "    fig.buttons = {};\n",
       "    var buttonGroup = document.createElement('div');\n",
       "    buttonGroup.classList = 'mpl-button-group';\n",
       "    for (var toolbar_ind in mpl.toolbar_items) {\n",
       "        var name = mpl.toolbar_items[toolbar_ind][0];\n",
       "        var tooltip = mpl.toolbar_items[toolbar_ind][1];\n",
       "        var image = mpl.toolbar_items[toolbar_ind][2];\n",
       "        var method_name = mpl.toolbar_items[toolbar_ind][3];\n",
       "\n",
       "        if (!name) {\n",
       "            /* Instead of a spacer, we start a new button group. */\n",
       "            if (buttonGroup.hasChildNodes()) {\n",
       "                toolbar.appendChild(buttonGroup);\n",
       "            }\n",
       "            buttonGroup = document.createElement('div');\n",
       "            buttonGroup.classList = 'mpl-button-group';\n",
       "            continue;\n",
       "        }\n",
       "\n",
       "        var button = (fig.buttons[name] = document.createElement('button'));\n",
       "        button.classList = 'mpl-widget';\n",
       "        button.setAttribute('role', 'button');\n",
       "        button.setAttribute('aria-disabled', 'false');\n",
       "        button.addEventListener('click', on_click_closure(method_name));\n",
       "        button.addEventListener('mouseover', on_mouseover_closure(tooltip));\n",
       "\n",
       "        var icon_img = document.createElement('img');\n",
       "        icon_img.src = '_images/' + image + '.png';\n",
       "        icon_img.srcset = '_images/' + image + '_large.png 2x';\n",
       "        icon_img.alt = tooltip;\n",
       "        button.appendChild(icon_img);\n",
       "\n",
       "        buttonGroup.appendChild(button);\n",
       "    }\n",
       "\n",
       "    if (buttonGroup.hasChildNodes()) {\n",
       "        toolbar.appendChild(buttonGroup);\n",
       "    }\n",
       "\n",
       "    var fmt_picker = document.createElement('select');\n",
       "    fmt_picker.classList = 'mpl-widget';\n",
       "    toolbar.appendChild(fmt_picker);\n",
       "    this.format_dropdown = fmt_picker;\n",
       "\n",
       "    for (var ind in mpl.extensions) {\n",
       "        var fmt = mpl.extensions[ind];\n",
       "        var option = document.createElement('option');\n",
       "        option.selected = fmt === mpl.default_extension;\n",
       "        option.innerHTML = fmt;\n",
       "        fmt_picker.appendChild(option);\n",
       "    }\n",
       "\n",
       "    var status_bar = document.createElement('span');\n",
       "    status_bar.classList = 'mpl-message';\n",
       "    toolbar.appendChild(status_bar);\n",
       "    this.message = status_bar;\n",
       "};\n",
       "\n",
       "mpl.figure.prototype.request_resize = function (x_pixels, y_pixels) {\n",
       "    // Request matplotlib to resize the figure. Matplotlib will then trigger a resize in the client,\n",
       "    // which will in turn request a refresh of the image.\n",
       "    this.send_message('resize', { width: x_pixels, height: y_pixels });\n",
       "};\n",
       "\n",
       "mpl.figure.prototype.send_message = function (type, properties) {\n",
       "    properties['type'] = type;\n",
       "    properties['figure_id'] = this.id;\n",
       "    this.ws.send(JSON.stringify(properties));\n",
       "};\n",
       "\n",
       "mpl.figure.prototype.send_draw_message = function () {\n",
       "    if (!this.waiting) {\n",
       "        this.waiting = true;\n",
       "        this.ws.send(JSON.stringify({ type: 'draw', figure_id: this.id }));\n",
       "    }\n",
       "};\n",
       "\n",
       "mpl.figure.prototype.handle_save = function (fig, _msg) {\n",
       "    var format_dropdown = fig.format_dropdown;\n",
       "    var format = format_dropdown.options[format_dropdown.selectedIndex].value;\n",
       "    fig.ondownload(fig, format);\n",
       "};\n",
       "\n",
       "mpl.figure.prototype.handle_resize = function (fig, msg) {\n",
       "    var size = msg['size'];\n",
       "    if (size[0] !== fig.canvas.width || size[1] !== fig.canvas.height) {\n",
       "        fig._resize_canvas(size[0], size[1], msg['forward']);\n",
       "        fig.send_message('refresh', {});\n",
       "    }\n",
       "};\n",
       "\n",
       "mpl.figure.prototype.handle_rubberband = function (fig, msg) {\n",
       "    var x0 = msg['x0'] / fig.ratio;\n",
       "    var y0 = (fig.canvas.height - msg['y0']) / fig.ratio;\n",
       "    var x1 = msg['x1'] / fig.ratio;\n",
       "    var y1 = (fig.canvas.height - msg['y1']) / fig.ratio;\n",
       "    x0 = Math.floor(x0) + 0.5;\n",
       "    y0 = Math.floor(y0) + 0.5;\n",
       "    x1 = Math.floor(x1) + 0.5;\n",
       "    y1 = Math.floor(y1) + 0.5;\n",
       "    var min_x = Math.min(x0, x1);\n",
       "    var min_y = Math.min(y0, y1);\n",
       "    var width = Math.abs(x1 - x0);\n",
       "    var height = Math.abs(y1 - y0);\n",
       "\n",
       "    fig.rubberband_context.clearRect(\n",
       "        0,\n",
       "        0,\n",
       "        fig.canvas.width / fig.ratio,\n",
       "        fig.canvas.height / fig.ratio\n",
       "    );\n",
       "\n",
       "    fig.rubberband_context.strokeRect(min_x, min_y, width, height);\n",
       "};\n",
       "\n",
       "mpl.figure.prototype.handle_figure_label = function (fig, msg) {\n",
       "    // Updates the figure title.\n",
       "    fig.header.textContent = msg['label'];\n",
       "};\n",
       "\n",
       "mpl.figure.prototype.handle_cursor = function (fig, msg) {\n",
       "    var cursor = msg['cursor'];\n",
       "    switch (cursor) {\n",
       "        case 0:\n",
       "            cursor = 'pointer';\n",
       "            break;\n",
       "        case 1:\n",
       "            cursor = 'default';\n",
       "            break;\n",
       "        case 2:\n",
       "            cursor = 'crosshair';\n",
       "            break;\n",
       "        case 3:\n",
       "            cursor = 'move';\n",
       "            break;\n",
       "    }\n",
       "    fig.rubberband_canvas.style.cursor = cursor;\n",
       "};\n",
       "\n",
       "mpl.figure.prototype.handle_message = function (fig, msg) {\n",
       "    fig.message.textContent = msg['message'];\n",
       "};\n",
       "\n",
       "mpl.figure.prototype.handle_draw = function (fig, _msg) {\n",
       "    // Request the server to send over a new figure.\n",
       "    fig.send_draw_message();\n",
       "};\n",
       "\n",
       "mpl.figure.prototype.handle_image_mode = function (fig, msg) {\n",
       "    fig.image_mode = msg['mode'];\n",
       "};\n",
       "\n",
       "mpl.figure.prototype.handle_history_buttons = function (fig, msg) {\n",
       "    for (var key in msg) {\n",
       "        if (!(key in fig.buttons)) {\n",
       "            continue;\n",
       "        }\n",
       "        fig.buttons[key].disabled = !msg[key];\n",
       "        fig.buttons[key].setAttribute('aria-disabled', !msg[key]);\n",
       "    }\n",
       "};\n",
       "\n",
       "mpl.figure.prototype.handle_navigate_mode = function (fig, msg) {\n",
       "    if (msg['mode'] === 'PAN') {\n",
       "        fig.buttons['Pan'].classList.add('active');\n",
       "        fig.buttons['Zoom'].classList.remove('active');\n",
       "    } else if (msg['mode'] === 'ZOOM') {\n",
       "        fig.buttons['Pan'].classList.remove('active');\n",
       "        fig.buttons['Zoom'].classList.add('active');\n",
       "    } else {\n",
       "        fig.buttons['Pan'].classList.remove('active');\n",
       "        fig.buttons['Zoom'].classList.remove('active');\n",
       "    }\n",
       "};\n",
       "\n",
       "mpl.figure.prototype.updated_canvas_event = function () {\n",
       "    // Called whenever the canvas gets updated.\n",
       "    this.send_message('ack', {});\n",
       "};\n",
       "\n",
       "// A function to construct a web socket function for onmessage handling.\n",
       "// Called in the figure constructor.\n",
       "mpl.figure.prototype._make_on_message_function = function (fig) {\n",
       "    return function socket_on_message(evt) {\n",
       "        if (evt.data instanceof Blob) {\n",
       "            /* FIXME: We get \"Resource interpreted as Image but\n",
       "             * transferred with MIME type text/plain:\" errors on\n",
       "             * Chrome.  But how to set the MIME type?  It doesn't seem\n",
       "             * to be part of the websocket stream */\n",
       "            evt.data.type = 'image/png';\n",
       "\n",
       "            /* Free the memory for the previous frames */\n",
       "            if (fig.imageObj.src) {\n",
       "                (window.URL || window.webkitURL).revokeObjectURL(\n",
       "                    fig.imageObj.src\n",
       "                );\n",
       "            }\n",
       "\n",
       "            fig.imageObj.src = (window.URL || window.webkitURL).createObjectURL(\n",
       "                evt.data\n",
       "            );\n",
       "            fig.updated_canvas_event();\n",
       "            fig.waiting = false;\n",
       "            return;\n",
       "        } else if (\n",
       "            typeof evt.data === 'string' &&\n",
       "            evt.data.slice(0, 21) === 'data:image/png;base64'\n",
       "        ) {\n",
       "            fig.imageObj.src = evt.data;\n",
       "            fig.updated_canvas_event();\n",
       "            fig.waiting = false;\n",
       "            return;\n",
       "        }\n",
       "\n",
       "        var msg = JSON.parse(evt.data);\n",
       "        var msg_type = msg['type'];\n",
       "\n",
       "        // Call the  \"handle_{type}\" callback, which takes\n",
       "        // the figure and JSON message as its only arguments.\n",
       "        try {\n",
       "            var callback = fig['handle_' + msg_type];\n",
       "        } catch (e) {\n",
       "            console.log(\n",
       "                \"No handler for the '\" + msg_type + \"' message type: \",\n",
       "                msg\n",
       "            );\n",
       "            return;\n",
       "        }\n",
       "\n",
       "        if (callback) {\n",
       "            try {\n",
       "                // console.log(\"Handling '\" + msg_type + \"' message: \", msg);\n",
       "                callback(fig, msg);\n",
       "            } catch (e) {\n",
       "                console.log(\n",
       "                    \"Exception inside the 'handler_\" + msg_type + \"' callback:\",\n",
       "                    e,\n",
       "                    e.stack,\n",
       "                    msg\n",
       "                );\n",
       "            }\n",
       "        }\n",
       "    };\n",
       "};\n",
       "\n",
       "// from http://stackoverflow.com/questions/1114465/getting-mouse-location-in-canvas\n",
       "mpl.findpos = function (e) {\n",
       "    //this section is from http://www.quirksmode.org/js/events_properties.html\n",
       "    var targ;\n",
       "    if (!e) {\n",
       "        e = window.event;\n",
       "    }\n",
       "    if (e.target) {\n",
       "        targ = e.target;\n",
       "    } else if (e.srcElement) {\n",
       "        targ = e.srcElement;\n",
       "    }\n",
       "    if (targ.nodeType === 3) {\n",
       "        // defeat Safari bug\n",
       "        targ = targ.parentNode;\n",
       "    }\n",
       "\n",
       "    // pageX,Y are the mouse positions relative to the document\n",
       "    var boundingRect = targ.getBoundingClientRect();\n",
       "    var x = e.pageX - (boundingRect.left + document.body.scrollLeft);\n",
       "    var y = e.pageY - (boundingRect.top + document.body.scrollTop);\n",
       "\n",
       "    return { x: x, y: y };\n",
       "};\n",
       "\n",
       "/*\n",
       " * return a copy of an object with only non-object keys\n",
       " * we need this to avoid circular references\n",
       " * http://stackoverflow.com/a/24161582/3208463\n",
       " */\n",
       "function simpleKeys(original) {\n",
       "    return Object.keys(original).reduce(function (obj, key) {\n",
       "        if (typeof original[key] !== 'object') {\n",
       "            obj[key] = original[key];\n",
       "        }\n",
       "        return obj;\n",
       "    }, {});\n",
       "}\n",
       "\n",
       "mpl.figure.prototype.mouse_event = function (event, name) {\n",
       "    var canvas_pos = mpl.findpos(event);\n",
       "\n",
       "    if (name === 'button_press') {\n",
       "        this.canvas.focus();\n",
       "        this.canvas_div.focus();\n",
       "    }\n",
       "\n",
       "    var x = canvas_pos.x * this.ratio;\n",
       "    var y = canvas_pos.y * this.ratio;\n",
       "\n",
       "    this.send_message(name, {\n",
       "        x: x,\n",
       "        y: y,\n",
       "        button: event.button,\n",
       "        step: event.step,\n",
       "        guiEvent: simpleKeys(event),\n",
       "    });\n",
       "\n",
       "    /* This prevents the web browser from automatically changing to\n",
       "     * the text insertion cursor when the button is pressed.  We want\n",
       "     * to control all of the cursor setting manually through the\n",
       "     * 'cursor' event from matplotlib */\n",
       "    event.preventDefault();\n",
       "    return false;\n",
       "};\n",
       "\n",
       "mpl.figure.prototype._key_event_extra = function (_event, _name) {\n",
       "    // Handle any extra behaviour associated with a key event\n",
       "};\n",
       "\n",
       "mpl.figure.prototype.key_event = function (event, name) {\n",
       "    // Prevent repeat events\n",
       "    if (name === 'key_press') {\n",
       "        if (event.which === this._key) {\n",
       "            return;\n",
       "        } else {\n",
       "            this._key = event.which;\n",
       "        }\n",
       "    }\n",
       "    if (name === 'key_release') {\n",
       "        this._key = null;\n",
       "    }\n",
       "\n",
       "    var value = '';\n",
       "    if (event.ctrlKey && event.which !== 17) {\n",
       "        value += 'ctrl+';\n",
       "    }\n",
       "    if (event.altKey && event.which !== 18) {\n",
       "        value += 'alt+';\n",
       "    }\n",
       "    if (event.shiftKey && event.which !== 16) {\n",
       "        value += 'shift+';\n",
       "    }\n",
       "\n",
       "    value += 'k';\n",
       "    value += event.which.toString();\n",
       "\n",
       "    this._key_event_extra(event, name);\n",
       "\n",
       "    this.send_message(name, { key: value, guiEvent: simpleKeys(event) });\n",
       "    return false;\n",
       "};\n",
       "\n",
       "mpl.figure.prototype.toolbar_button_onclick = function (name) {\n",
       "    if (name === 'download') {\n",
       "        this.handle_save(this, null);\n",
       "    } else {\n",
       "        this.send_message('toolbar_button', { name: name });\n",
       "    }\n",
       "};\n",
       "\n",
       "mpl.figure.prototype.toolbar_button_onmouseover = function (tooltip) {\n",
       "    this.message.textContent = tooltip;\n",
       "};\n",
       "mpl.toolbar_items = [[\"Home\", \"Reset original view\", \"fa fa-home icon-home\", \"home\"], [\"Back\", \"Back to previous view\", \"fa fa-arrow-left icon-arrow-left\", \"back\"], [\"Forward\", \"Forward to next view\", \"fa fa-arrow-right icon-arrow-right\", \"forward\"], [\"\", \"\", \"\", \"\"], [\"Pan\", \"Left button pans, Right button zooms\\nx/y fixes axis, CTRL fixes aspect\", \"fa fa-arrows icon-move\", \"pan\"], [\"Zoom\", \"Zoom to rectangle\\nx/y fixes axis, CTRL fixes aspect\", \"fa fa-square-o icon-check-empty\", \"zoom\"], [\"\", \"\", \"\", \"\"], [\"Download\", \"Download plot\", \"fa fa-floppy-o icon-save\", \"download\"]];\n",
       "\n",
       "mpl.extensions = [\"eps\", \"jpeg\", \"pdf\", \"png\", \"ps\", \"raw\", \"svg\", \"tif\"];\n",
       "\n",
       "mpl.default_extension = \"png\";/* global mpl */\n",
       "\n",
       "var comm_websocket_adapter = function (comm) {\n",
       "    // Create a \"websocket\"-like object which calls the given IPython comm\n",
       "    // object with the appropriate methods. Currently this is a non binary\n",
       "    // socket, so there is still some room for performance tuning.\n",
       "    var ws = {};\n",
       "\n",
       "    ws.close = function () {\n",
       "        comm.close();\n",
       "    };\n",
       "    ws.send = function (m) {\n",
       "        //console.log('sending', m);\n",
       "        comm.send(m);\n",
       "    };\n",
       "    // Register the callback with on_msg.\n",
       "    comm.on_msg(function (msg) {\n",
       "        //console.log('receiving', msg['content']['data'], msg);\n",
       "        // Pass the mpl event to the overridden (by mpl) onmessage function.\n",
       "        ws.onmessage(msg['content']['data']);\n",
       "    });\n",
       "    return ws;\n",
       "};\n",
       "\n",
       "mpl.mpl_figure_comm = function (comm, msg) {\n",
       "    // This is the function which gets called when the mpl process\n",
       "    // starts-up an IPython Comm through the \"matplotlib\" channel.\n",
       "\n",
       "    var id = msg.content.data.id;\n",
       "    // Get hold of the div created by the display call when the Comm\n",
       "    // socket was opened in Python.\n",
       "    var element = document.getElementById(id);\n",
       "    var ws_proxy = comm_websocket_adapter(comm);\n",
       "\n",
       "    function ondownload(figure, _format) {\n",
       "        window.open(figure.canvas.toDataURL());\n",
       "    }\n",
       "\n",
       "    var fig = new mpl.figure(id, ws_proxy, ondownload, element);\n",
       "\n",
       "    // Call onopen now - mpl needs it, as it is assuming we've passed it a real\n",
       "    // web socket which is closed, not our websocket->open comm proxy.\n",
       "    ws_proxy.onopen();\n",
       "\n",
       "    fig.parent_element = element;\n",
       "    fig.cell_info = mpl.find_output_cell(\"<div id='\" + id + \"'></div>\");\n",
       "    if (!fig.cell_info) {\n",
       "        console.error('Failed to find cell for figure', id, fig);\n",
       "        return;\n",
       "    }\n",
       "    fig.cell_info[0].output_area.element.one(\n",
       "        'cleared',\n",
       "        { fig: fig },\n",
       "        fig._remove_fig_handler\n",
       "    );\n",
       "};\n",
       "\n",
       "mpl.figure.prototype.handle_close = function (fig, msg) {\n",
       "    var width = fig.canvas.width / fig.ratio;\n",
       "    fig.cell_info[0].output_area.element.off(\n",
       "        'cleared',\n",
       "        fig._remove_fig_handler\n",
       "    );\n",
       "\n",
       "    // Update the output cell to use the data from the current canvas.\n",
       "    fig.push_to_output();\n",
       "    var dataURL = fig.canvas.toDataURL();\n",
       "    // Re-enable the keyboard manager in IPython - without this line, in FF,\n",
       "    // the notebook keyboard shortcuts fail.\n",
       "    IPython.keyboard_manager.enable();\n",
       "    fig.parent_element.innerHTML =\n",
       "        '<img src=\"' + dataURL + '\" width=\"' + width + '\">';\n",
       "    fig.close_ws(fig, msg);\n",
       "};\n",
       "\n",
       "mpl.figure.prototype.close_ws = function (fig, msg) {\n",
       "    fig.send_message('closing', msg);\n",
       "    // fig.ws.close()\n",
       "};\n",
       "\n",
       "mpl.figure.prototype.push_to_output = function (_remove_interactive) {\n",
       "    // Turn the data on the canvas into data in the output cell.\n",
       "    var width = this.canvas.width / this.ratio;\n",
       "    var dataURL = this.canvas.toDataURL();\n",
       "    this.cell_info[1]['text/html'] =\n",
       "        '<img src=\"' + dataURL + '\" width=\"' + width + '\">';\n",
       "};\n",
       "\n",
       "mpl.figure.prototype.updated_canvas_event = function () {\n",
       "    // Tell IPython that the notebook contents must change.\n",
       "    IPython.notebook.set_dirty(true);\n",
       "    this.send_message('ack', {});\n",
       "    var fig = this;\n",
       "    // Wait a second, then push the new image to the DOM so\n",
       "    // that it is saved nicely (might be nice to debounce this).\n",
       "    setTimeout(function () {\n",
       "        fig.push_to_output();\n",
       "    }, 1000);\n",
       "};\n",
       "\n",
       "mpl.figure.prototype._init_toolbar = function () {\n",
       "    var fig = this;\n",
       "\n",
       "    var toolbar = document.createElement('div');\n",
       "    toolbar.classList = 'btn-toolbar';\n",
       "    this.root.appendChild(toolbar);\n",
       "\n",
       "    function on_click_closure(name) {\n",
       "        return function (_event) {\n",
       "            return fig.toolbar_button_onclick(name);\n",
       "        };\n",
       "    }\n",
       "\n",
       "    function on_mouseover_closure(tooltip) {\n",
       "        return function (event) {\n",
       "            if (!event.currentTarget.disabled) {\n",
       "                return fig.toolbar_button_onmouseover(tooltip);\n",
       "            }\n",
       "        };\n",
       "    }\n",
       "\n",
       "    fig.buttons = {};\n",
       "    var buttonGroup = document.createElement('div');\n",
       "    buttonGroup.classList = 'btn-group';\n",
       "    var button;\n",
       "    for (var toolbar_ind in mpl.toolbar_items) {\n",
       "        var name = mpl.toolbar_items[toolbar_ind][0];\n",
       "        var tooltip = mpl.toolbar_items[toolbar_ind][1];\n",
       "        var image = mpl.toolbar_items[toolbar_ind][2];\n",
       "        var method_name = mpl.toolbar_items[toolbar_ind][3];\n",
       "\n",
       "        if (!name) {\n",
       "            /* Instead of a spacer, we start a new button group. */\n",
       "            if (buttonGroup.hasChildNodes()) {\n",
       "                toolbar.appendChild(buttonGroup);\n",
       "            }\n",
       "            buttonGroup = document.createElement('div');\n",
       "            buttonGroup.classList = 'btn-group';\n",
       "            continue;\n",
       "        }\n",
       "\n",
       "        button = fig.buttons[name] = document.createElement('button');\n",
       "        button.classList = 'btn btn-default';\n",
       "        button.href = '#';\n",
       "        button.title = name;\n",
       "        button.innerHTML = '<i class=\"fa ' + image + ' fa-lg\"></i>';\n",
       "        button.addEventListener('click', on_click_closure(method_name));\n",
       "        button.addEventListener('mouseover', on_mouseover_closure(tooltip));\n",
       "        buttonGroup.appendChild(button);\n",
       "    }\n",
       "\n",
       "    if (buttonGroup.hasChildNodes()) {\n",
       "        toolbar.appendChild(buttonGroup);\n",
       "    }\n",
       "\n",
       "    // Add the status bar.\n",
       "    var status_bar = document.createElement('span');\n",
       "    status_bar.classList = 'mpl-message pull-right';\n",
       "    toolbar.appendChild(status_bar);\n",
       "    this.message = status_bar;\n",
       "\n",
       "    // Add the close button to the window.\n",
       "    var buttongrp = document.createElement('div');\n",
       "    buttongrp.classList = 'btn-group inline pull-right';\n",
       "    button = document.createElement('button');\n",
       "    button.classList = 'btn btn-mini btn-primary';\n",
       "    button.href = '#';\n",
       "    button.title = 'Stop Interaction';\n",
       "    button.innerHTML = '<i class=\"fa fa-power-off icon-remove icon-large\"></i>';\n",
       "    button.addEventListener('click', function (_evt) {\n",
       "        fig.handle_close(fig, {});\n",
       "    });\n",
       "    button.addEventListener(\n",
       "        'mouseover',\n",
       "        on_mouseover_closure('Stop Interaction')\n",
       "    );\n",
       "    buttongrp.appendChild(button);\n",
       "    var titlebar = this.root.querySelector('.ui-dialog-titlebar');\n",
       "    titlebar.insertBefore(buttongrp, titlebar.firstChild);\n",
       "};\n",
       "\n",
       "mpl.figure.prototype._remove_fig_handler = function (event) {\n",
       "    var fig = event.data.fig;\n",
       "    fig.close_ws(fig, {});\n",
       "};\n",
       "\n",
       "mpl.figure.prototype._root_extra_style = function (el) {\n",
       "    el.style.boxSizing = 'content-box'; // override notebook setting of border-box.\n",
       "};\n",
       "\n",
       "mpl.figure.prototype._canvas_extra_style = function (el) {\n",
       "    // this is important to make the div 'focusable\n",
       "    el.setAttribute('tabindex', 0);\n",
       "    // reach out to IPython and tell the keyboard manager to turn it's self\n",
       "    // off when our div gets focus\n",
       "\n",
       "    // location in version 3\n",
       "    if (IPython.notebook.keyboard_manager) {\n",
       "        IPython.notebook.keyboard_manager.register_events(el);\n",
       "    } else {\n",
       "        // location in version 2\n",
       "        IPython.keyboard_manager.register_events(el);\n",
       "    }\n",
       "};\n",
       "\n",
       "mpl.figure.prototype._key_event_extra = function (event, _name) {\n",
       "    var manager = IPython.notebook.keyboard_manager;\n",
       "    if (!manager) {\n",
       "        manager = IPython.keyboard_manager;\n",
       "    }\n",
       "\n",
       "    // Check for shift+enter\n",
       "    if (event.shiftKey && event.which === 13) {\n",
       "        this.canvas_div.blur();\n",
       "        // select the cell after this one\n",
       "        var index = IPython.notebook.find_cell_index(this.cell_info[0]);\n",
       "        IPython.notebook.select(index + 1);\n",
       "    }\n",
       "};\n",
       "\n",
       "mpl.figure.prototype.handle_save = function (fig, _msg) {\n",
       "    fig.ondownload(fig, null);\n",
       "};\n",
       "\n",
       "mpl.find_output_cell = function (html_output) {\n",
       "    // Return the cell and output element which can be found *uniquely* in the notebook.\n",
       "    // Note - this is a bit hacky, but it is done because the \"notebook_saving.Notebook\"\n",
       "    // IPython event is triggered only after the cells have been serialised, which for\n",
       "    // our purposes (turning an active figure into a static one), is too late.\n",
       "    var cells = IPython.notebook.get_cells();\n",
       "    var ncells = cells.length;\n",
       "    for (var i = 0; i < ncells; i++) {\n",
       "        var cell = cells[i];\n",
       "        if (cell.cell_type === 'code') {\n",
       "            for (var j = 0; j < cell.output_area.outputs.length; j++) {\n",
       "                var data = cell.output_area.outputs[j];\n",
       "                if (data.data) {\n",
       "                    // IPython >= 3 moved mimebundle to data attribute of output\n",
       "                    data = data.data;\n",
       "                }\n",
       "                if (data['text/html'] === html_output) {\n",
       "                    return [cell, data, j];\n",
       "                }\n",
       "            }\n",
       "        }\n",
       "    }\n",
       "};\n",
       "\n",
       "// Register the function which deals with the matplotlib target/channel.\n",
       "// The kernel may be null if the page has been refreshed.\n",
       "if (IPython.notebook.kernel !== null) {\n",
       "    IPython.notebook.kernel.comm_manager.register_target(\n",
       "        'matplotlib',\n",
       "        mpl.mpl_figure_comm\n",
       "    );\n",
       "}\n"
      ],
      "text/plain": [
       "<IPython.core.display.Javascript object>"
      ]
     },
     "metadata": {},
     "output_type": "display_data"
    },
    {
     "data": {
      "text/html": [
       "<img src=\"data:image/png;base64,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\" width=\"640\">"
      ],
      "text/plain": [
       "<IPython.core.display.HTML object>"
      ]
     },
     "metadata": {},
     "output_type": "display_data"
    }
   ],
   "source": [
    "sampler.plot_fit()"
   ]
  },
  {
   "cell_type": "code",
   "execution_count": 15,
   "metadata": {
    "scrolled": true
   },
   "outputs": [
    {
     "data": {
      "text/plain": [
       "[4379, 34336, 4136, 6145, 15264, 5059, 8237, 3737, 4097, 3548]"
      ]
     },
     "execution_count": 15,
     "metadata": {},
     "output_type": "execute_result"
    }
   ],
   "source": [
    "sampler.sample(10)"
   ]
  },
  {
   "cell_type": "code",
   "execution_count": 25,
   "metadata": {},
   "outputs": [
    {
     "data": {
      "text/plain": [
       "24005.047721241877"
      ]
     },
     "execution_count": 25,
     "metadata": {},
     "output_type": "execute_result"
    }
   ],
   "source": [
    "sampler.f_inv(0.6780241994497448 + sampler.eps)"
   ]
  },
  {
   "cell_type": "code",
   "execution_count": 23,
   "metadata": {},
   "outputs": [
    {
     "data": {
      "text/plain": [
       "{'beta': -1.7798432936849935,\n",
       " 'a': 0.6780241994497448,\n",
       " 'c': 3413,\n",
       " 'lower': 3408,\n",
       " 'upper': 25977}"
      ]
     },
     "execution_count": 23,
     "metadata": {},
     "output_type": "execute_result"
    }
   ],
   "source": [
    "sampler.params"
   ]
  },
  {
   "cell_type": "markdown",
   "metadata": {},
   "source": [
    "## GET VOCABSIZES\n"
   ]
  },
  {
   "cell_type": "code",
   "execution_count": 119,
   "metadata": {},
   "outputs": [
    {
     "name": "stderr",
     "output_type": "stream",
     "text": [
      "\n",
      "  0%|          | 0/6 [00:00<?, ?it/s]\u001b[A\n",
      " 17%|█▋        | 1/6 [00:00<00:01,  4.88it/s]\u001b[A\n",
      " 33%|███▎      | 2/6 [00:00<00:00,  5.30it/s]\u001b[A\n",
      " 50%|█████     | 3/6 [00:00<00:00,  6.11it/s]\u001b[A\n",
      " 67%|██████▋   | 4/6 [00:00<00:00,  6.47it/s]\u001b[A\n",
      "100%|██████████| 6/6 [00:00<00:00,  7.95it/s]\u001b[A\n"
     ]
    }
   ],
   "source": [
    "pbc = PBC(\"/Users/philipp/Dropbox/data/2017_bible/corpus/\")\n",
    "editions = [\n",
    "            (\"zho\", \"zho_newworld\"), \n",
    "            (\"eng\", \"eng_newworld2013\"), \n",
    "            (\"deu\", \"deu_newworld\"), \n",
    "            (\"rus\", \"rus_newworld\"), \n",
    "            (\"hin\", \"hin_newworld\"),\n",
    "            (\"ell\", \"ell_newworld\"),\n",
    "           ]\n",
    "pbc.load_editions([x[1] for x in editions])\n"
   ]
  },
  {
   "cell_type": "code",
   "execution_count": 122,
   "metadata": {},
   "outputs": [
    {
     "name": "stderr",
     "output_type": "stream",
     "text": [
      "\n",
      "samples:   0%|          | 0/13 [00:00<?, ?it/s]\u001b[A"
     ]
    },
    {
     "name": "stdout",
     "output_type": "stream",
     "text": [
      "Min vocab size: 6189\n",
      "Max vocab size: 33786\n"
     ]
    },
    {
     "name": "stderr",
     "output_type": "stream",
     "text": [
      "\n",
      "samples:   8%|▊         | 1/13 [00:03<00:42,  3.53s/it]\u001b[A\n",
      "samples:  15%|█▌        | 2/13 [00:06<00:35,  3.27s/it]\u001b[A\n",
      "samples:  23%|██▎       | 3/13 [00:09<00:31,  3.15s/it]\u001b[A\n",
      "samples:  31%|███       | 4/13 [00:11<00:27,  3.06s/it]\u001b[A\n",
      "samples:  38%|███▊      | 5/13 [00:15<00:24,  3.08s/it]\u001b[A\n",
      "samples:  46%|████▌     | 6/13 [00:18<00:21,  3.08s/it]\u001b[A\n",
      "samples:  54%|█████▍    | 7/13 [00:20<00:17,  2.99s/it]\u001b[A\n",
      "samples:  62%|██████▏   | 8/13 [00:23<00:15,  3.01s/it]\u001b[A\n",
      "samples:  69%|██████▉   | 9/13 [00:26<00:11,  2.94s/it]\u001b[A\n",
      "samples:  77%|███████▋  | 10/13 [00:29<00:08,  2.84s/it]\u001b[A\n",
      "samples:  85%|████████▍ | 11/13 [00:32<00:05,  2.80s/it]\u001b[A\n",
      "samples:  92%|█████████▏| 12/13 [00:34<00:02,  2.79s/it]\u001b[A\n",
      "samples: 100%|██████████| 13/13 [00:37<00:00,  2.90s/it]\u001b[A\n"
     ]
    },
    {
     "name": "stdout",
     "output_type": "stream",
     "text": [
      "zho f 1.00 6189\n",
      "zho f 0.95 6567\n",
      "zho f 0.90 7054\n",
      "zho f 0.85 7722\n",
      "zho f 0.80 8733\n",
      "zho f 0.75 10592\n",
      "zho f 0.70 17083\n"
     ]
    },
    {
     "name": "stderr",
     "output_type": "stream",
     "text": [
      "\n",
      "samples:   0%|          | 0/13 [00:00<?, ?it/s]\u001b[A"
     ]
    },
    {
     "name": "stdout",
     "output_type": "stream",
     "text": [
      "Min vocab size: 129\n",
      "Max vocab size: 18865\n"
     ]
    },
    {
     "name": "stderr",
     "output_type": "stream",
     "text": [
      "\n",
      "samples:   8%|▊         | 1/13 [00:05<01:04,  5.41s/it]\u001b[A\n",
      "samples:  15%|█▌        | 2/13 [00:08<00:51,  4.67s/it]\u001b[A\n",
      "samples:  23%|██▎       | 3/13 [00:11<00:41,  4.15s/it]\u001b[A\n",
      "samples:  31%|███       | 4/13 [00:14<00:34,  3.79s/it]\u001b[A\n",
      "samples:  38%|███▊      | 5/13 [00:17<00:28,  3.56s/it]\u001b[A\n",
      "samples:  46%|████▌     | 6/13 [00:20<00:23,  3.36s/it]\u001b[A\n",
      "samples:  54%|█████▍    | 7/13 [00:23<00:19,  3.30s/it]\u001b[A\n",
      "samples:  62%|██████▏   | 8/13 [00:26<00:15,  3.20s/it]\u001b[A\n",
      "samples:  69%|██████▉   | 9/13 [00:29<00:12,  3.10s/it]\u001b[A\n",
      "samples:  77%|███████▋  | 10/13 [00:32<00:09,  3.07s/it]\u001b[A\n",
      "samples:  85%|████████▍ | 11/13 [00:35<00:06,  3.03s/it]\u001b[A\n",
      "samples:  92%|█████████▏| 12/13 [00:37<00:02,  3.00s/it]\u001b[A\n",
      "samples: 100%|██████████| 13/13 [00:41<00:00,  3.18s/it]\u001b[A\n"
     ]
    },
    {
     "name": "stdout",
     "output_type": "stream",
     "text": [
      "eng f 1.00 129\n",
      "eng f 0.95 138\n",
      "eng f 0.90 147\n",
      "eng f 0.85 159\n",
      "eng f 0.80 172\n",
      "eng f 0.75 189\n",
      "eng f 0.70 209\n",
      "eng f 0.65 234\n",
      "eng f 0.60 267\n",
      "eng f 0.55 311\n",
      "eng f 0.50 374\n",
      "eng f 0.45 473\n",
      "eng f 0.40 653\n",
      "eng f 0.35 1087\n",
      "eng f 0.30 4139\n"
     ]
    },
    {
     "name": "stderr",
     "output_type": "stream",
     "text": [
      "\n",
      "samples:   0%|          | 0/13 [00:00<?, ?it/s]\u001b[A"
     ]
    },
    {
     "name": "stdout",
     "output_type": "stream",
     "text": [
      "Min vocab size: 173\n",
      "Max vocab size: 42224\n"
     ]
    },
    {
     "name": "stderr",
     "output_type": "stream",
     "text": [
      "\n",
      "samples:   8%|▊         | 1/13 [00:06<01:18,  6.55s/it]\u001b[A\n",
      "samples:  15%|█▌        | 2/13 [00:10<01:03,  5.81s/it]\u001b[A\n",
      "samples:  23%|██▎       | 3/13 [00:14<00:52,  5.22s/it]\u001b[A\n",
      "samples:  31%|███       | 4/13 [00:18<00:42,  4.76s/it]\u001b[A\n",
      "samples:  38%|███▊      | 5/13 [00:22<00:36,  4.60s/it]\u001b[A\n",
      "samples:  46%|████▌     | 6/13 [00:26<00:31,  4.53s/it]\u001b[A\n",
      "samples:  54%|█████▍    | 7/13 [00:30<00:25,  4.28s/it]\u001b[A\n",
      "samples:  62%|██████▏   | 8/13 [00:34<00:20,  4.15s/it]\u001b[A\n",
      "samples:  69%|██████▉   | 9/13 [00:37<00:15,  3.99s/it]\u001b[A\n",
      "samples:  77%|███████▋  | 10/13 [00:42<00:12,  4.08s/it]\u001b[A\n",
      "samples:  85%|████████▍ | 11/13 [00:46<00:08,  4.04s/it]\u001b[A\n",
      "samples:  92%|█████████▏| 12/13 [00:49<00:03,  3.92s/it]\u001b[A\n",
      "samples: 100%|██████████| 13/13 [00:53<00:00,  4.12s/it]\u001b[A\n"
     ]
    },
    {
     "name": "stdout",
     "output_type": "stream",
     "text": [
      "deu f 1.00 173\n",
      "deu f 0.95 184\n",
      "deu f 0.90 197\n",
      "deu f 0.85 212\n",
      "deu f 0.80 230\n",
      "deu f 0.75 251\n",
      "deu f 0.70 276\n",
      "deu f 0.65 307\n",
      "deu f 0.60 346\n",
      "deu f 0.55 397\n",
      "deu f 0.50 467\n",
      "deu f 0.45 569\n",
      "deu f 0.40 730\n",
      "deu f 0.35 1025\n",
      "deu f 0.30 1759\n",
      "deu f 0.25 7267\n"
     ]
    },
    {
     "name": "stderr",
     "output_type": "stream",
     "text": [
      "\n",
      "samples:   0%|          | 0/13 [00:00<?, ?it/s]\u001b[A"
     ]
    },
    {
     "name": "stdout",
     "output_type": "stream",
     "text": [
      "Min vocab size: 137\n",
      "Max vocab size: 59341\n"
     ]
    },
    {
     "name": "stderr",
     "output_type": "stream",
     "text": [
      "\n",
      "samples:   8%|▊         | 1/13 [00:06<01:18,  6.51s/it]\u001b[A\n",
      "samples:  15%|█▌        | 2/13 [00:10<01:02,  5.69s/it]\u001b[A\n",
      "samples:  23%|██▎       | 3/13 [00:14<00:51,  5.17s/it]\u001b[A\n",
      "samples:  31%|███       | 4/13 [00:18<00:43,  4.79s/it]\u001b[A\n",
      "samples:  38%|███▊      | 5/13 [00:22<00:36,  4.56s/it]\u001b[A\n",
      "samples:  46%|████▌     | 6/13 [00:26<00:30,  4.42s/it]\u001b[A\n",
      "samples:  54%|█████▍    | 7/13 [00:30<00:25,  4.30s/it]\u001b[A\n",
      "samples:  62%|██████▏   | 8/13 [00:34<00:21,  4.20s/it]\u001b[A\n",
      "samples:  69%|██████▉   | 9/13 [00:38<00:16,  4.19s/it]\u001b[A\n",
      "samples:  77%|███████▋  | 10/13 [00:42<00:12,  4.25s/it]\u001b[A\n",
      "samples:  85%|████████▍ | 11/13 [00:47<00:08,  4.37s/it]\u001b[A\n",
      "samples:  92%|█████████▏| 12/13 [00:51<00:04,  4.34s/it]\u001b[A\n",
      "samples: 100%|██████████| 13/13 [00:56<00:00,  4.34s/it]\u001b[A\n"
     ]
    },
    {
     "name": "stdout",
     "output_type": "stream",
     "text": [
      "rus f 1.00 137\n",
      "rus f 0.95 148\n",
      "rus f 0.90 161\n",
      "rus f 0.85 176\n",
      "rus f 0.80 195\n",
      "rus f 0.75 217\n",
      "rus f 0.70 244\n",
      "rus f 0.65 278\n",
      "rus f 0.60 323\n",
      "rus f 0.55 384\n",
      "rus f 0.50 471\n",
      "rus f 0.45 603\n",
      "rus f 0.40 827\n",
      "rus f 0.35 1281\n",
      "rus f 0.30 2632\n",
      "rus f 0.25 29117\n"
     ]
    },
    {
     "name": "stderr",
     "output_type": "stream",
     "text": [
      "\n",
      "samples:   0%|          | 0/13 [00:00<?, ?it/s]\u001b[A"
     ]
    },
    {
     "name": "stdout",
     "output_type": "stream",
     "text": [
      "Min vocab size: 144\n",
      "Max vocab size: 10481\n"
     ]
    },
    {
     "name": "stderr",
     "output_type": "stream",
     "text": [
      "\n",
      "samples:   8%|▊         | 1/13 [00:02<00:29,  2.50s/it]\u001b[A\n",
      "samples:  15%|█▌        | 2/13 [00:03<00:23,  2.10s/it]\u001b[A\n",
      "samples:  23%|██▎       | 3/13 [00:04<00:18,  1.86s/it]\u001b[A\n",
      "samples:  31%|███       | 4/13 [00:06<00:14,  1.63s/it]\u001b[A\n",
      "samples:  38%|███▊      | 5/13 [00:07<00:11,  1.47s/it]\u001b[A\n",
      "samples:  46%|████▌     | 6/13 [00:08<00:10,  1.57s/it]\u001b[A\n",
      "samples:  54%|█████▍    | 7/13 [00:10<00:09,  1.55s/it]\u001b[A\n",
      "samples:  62%|██████▏   | 8/13 [00:11<00:07,  1.52s/it]\u001b[A\n",
      "samples:  69%|██████▉   | 9/13 [00:14<00:06,  1.73s/it]\u001b[A\n",
      "samples:  77%|███████▋  | 10/13 [00:15<00:04,  1.60s/it]\u001b[A\n",
      "samples:  85%|████████▍ | 11/13 [00:16<00:02,  1.48s/it]\u001b[A\n",
      "samples:  92%|█████████▏| 12/13 [00:17<00:01,  1.37s/it]\u001b[A\n",
      "samples: 100%|██████████| 13/13 [00:18<00:00,  1.45s/it]\u001b[A\n"
     ]
    },
    {
     "name": "stdout",
     "output_type": "stream",
     "text": [
      "hin f 1.00 144\n",
      "hin f 0.95 153\n",
      "hin f 0.90 164\n",
      "hin f 0.85 176\n",
      "hin f 0.80 191\n",
      "hin f 0.75 209\n",
      "hin f 0.70 231\n",
      "hin f 0.65 259\n",
      "hin f 0.60 295\n",
      "hin f 0.55 344\n",
      "hin f 0.50 417\n",
      "hin f 0.45 534\n",
      "hin f 0.40 762\n",
      "hin f 0.35 1427\n"
     ]
    },
    {
     "name": "stderr",
     "output_type": "stream",
     "text": [
      "\n",
      "samples:   0%|          | 0/13 [00:00<?, ?it/s]\u001b[A"
     ]
    },
    {
     "name": "stdout",
     "output_type": "stream",
     "text": [
      "Min vocab size: 143\n",
      "Max vocab size: 51077\n"
     ]
    },
    {
     "name": "stderr",
     "output_type": "stream",
     "text": [
      "\n",
      "samples:   8%|▊         | 1/13 [00:07<01:35,  7.97s/it]\u001b[A\n",
      "samples:  15%|█▌        | 2/13 [00:12<01:16,  6.92s/it]\u001b[A\n",
      "samples:  23%|██▎       | 3/13 [00:16<01:01,  6.11s/it]\u001b[A\n",
      "samples:  31%|███       | 4/13 [00:21<00:51,  5.69s/it]\u001b[A\n",
      "samples:  38%|███▊      | 5/13 [00:25<00:41,  5.18s/it]\u001b[A\n",
      "samples:  46%|████▌     | 6/13 [00:30<00:35,  5.11s/it]\u001b[A\n",
      "samples:  54%|█████▍    | 7/13 [00:34<00:29,  4.92s/it]\u001b[A\n",
      "samples:  62%|██████▏   | 8/13 [00:40<00:25,  5.17s/it]\u001b[A\n",
      "samples:  69%|██████▉   | 9/13 [00:44<00:19,  4.94s/it]\u001b[A\n",
      "samples:  77%|███████▋  | 10/13 [00:50<00:15,  5.05s/it]\u001b[A\n",
      "samples:  85%|████████▍ | 11/13 [00:54<00:09,  4.94s/it]\u001b[A\n",
      "samples:  92%|█████████▏| 12/13 [00:59<00:04,  4.76s/it]\u001b[A\n",
      "samples: 100%|██████████| 13/13 [01:03<00:00,  4.92s/it]\u001b[A"
     ]
    },
    {
     "name": "stdout",
     "output_type": "stream",
     "text": [
      "ell f 1.00 143\n",
      "ell f 0.95 154\n",
      "ell f 0.90 167\n",
      "ell f 0.85 183\n",
      "ell f 0.80 201\n",
      "ell f 0.75 223\n",
      "ell f 0.70 251\n",
      "ell f 0.65 285\n",
      "ell f 0.60 330\n",
      "ell f 0.55 390\n",
      "ell f 0.50 475\n",
      "ell f 0.45 604\n",
      "ell f 0.40 821\n",
      "ell f 0.35 1256\n",
      "ell f 0.30 2524\n",
      "ell f 0.25 24928\n"
     ]
    },
    {
     "name": "stderr",
     "output_type": "stream",
     "text": [
      "\n"
     ]
    }
   ],
   "source": [
    "results = []\n",
    "for lang, edition in editions:\n",
    "    tokwrapper = TokenizerWrapper(\"Wordpiece\")\n",
    "    sampler = VocabSizeSampler(eps=0.001)\n",
    "    sampler.set_corpus(pbc.text[lang][edition].values())\n",
    "    sampler.set_tokenizer(tokwrapper)\n",
    "    sampler.get_compression_rates(None, 11)\n",
    "    cr = 1.0\n",
    "    results.append((lang, \"max\", 1.0, sampler.params[\"lower\"]))\n",
    "    while cr > sampler.params[\"a\"]:\n",
    "        results.append((lang, \"f\", cr, sampler.f_inv(cr)))\n",
    "        print(\"{} {} {:.2f} {:.0f}\".format(*results[-1]))\n",
    "        cr -= 0.05\n",
    "    results.append((lang, \"min\", sampler.params[\"a\"], sampler.params[\"upper\"]))"
   ]
  },
  {
   "cell_type": "code",
   "execution_count": 123,
   "metadata": {},
   "outputs": [
    {
     "name": "stdout",
     "output_type": "stream",
     "text": [
      "zho max 1.00 6189\n",
      "zho f 1.00 6189\n",
      "zho f 0.95 6567\n",
      "zho f 0.90 7054\n",
      "zho f 0.85 7722\n",
      "zho f 0.80 8733\n",
      "zho f 0.75 10592\n",
      "zho f 0.70 17083\n",
      "zho min 0.68 33786\n",
      "eng max 1.00 129\n",
      "eng f 1.00 129\n",
      "eng f 0.95 138\n",
      "eng f 0.90 147\n",
      "eng f 0.85 159\n",
      "eng f 0.80 172\n",
      "eng f 0.75 189\n",
      "eng f 0.70 209\n",
      "eng f 0.65 234\n",
      "eng f 0.60 267\n",
      "eng f 0.55 311\n",
      "eng f 0.50 374\n",
      "eng f 0.45 473\n",
      "eng f 0.40 653\n",
      "eng f 0.35 1087\n",
      "eng f 0.30 4139\n",
      "eng min 0.29 18865\n",
      "deu max 1.00 173\n",
      "deu f 1.00 173\n",
      "deu f 0.95 184\n",
      "deu f 0.90 197\n",
      "deu f 0.85 212\n",
      "deu f 0.80 230\n",
      "deu f 0.75 251\n",
      "deu f 0.70 276\n",
      "deu f 0.65 307\n",
      "deu f 0.60 346\n",
      "deu f 0.55 397\n",
      "deu f 0.50 467\n",
      "deu f 0.45 569\n",
      "deu f 0.40 730\n",
      "deu f 0.35 1025\n",
      "deu f 0.30 1759\n",
      "deu f 0.25 7267\n",
      "deu min 0.24 42224\n",
      "rus max 1.00 137\n",
      "rus f 1.00 137\n",
      "rus f 0.95 148\n",
      "rus f 0.90 161\n",
      "rus f 0.85 176\n",
      "rus f 0.80 195\n",
      "rus f 0.75 217\n",
      "rus f 0.70 244\n",
      "rus f 0.65 278\n",
      "rus f 0.60 323\n",
      "rus f 0.55 384\n",
      "rus f 0.50 471\n",
      "rus f 0.45 603\n",
      "rus f 0.40 827\n",
      "rus f 0.35 1281\n",
      "rus f 0.30 2632\n",
      "rus f 0.25 29117\n",
      "rus min 0.24 59341\n",
      "hin max 1.00 144\n",
      "hin f 1.00 144\n",
      "hin f 0.95 153\n",
      "hin f 0.90 164\n",
      "hin f 0.85 176\n",
      "hin f 0.80 191\n",
      "hin f 0.75 209\n",
      "hin f 0.70 231\n",
      "hin f 0.65 259\n",
      "hin f 0.60 295\n",
      "hin f 0.55 344\n",
      "hin f 0.50 417\n",
      "hin f 0.45 534\n",
      "hin f 0.40 762\n",
      "hin f 0.35 1427\n",
      "hin min 0.31 10481\n",
      "ell max 1.00 143\n",
      "ell f 1.00 143\n",
      "ell f 0.95 154\n",
      "ell f 0.90 167\n",
      "ell f 0.85 183\n",
      "ell f 0.80 201\n",
      "ell f 0.75 223\n",
      "ell f 0.70 251\n",
      "ell f 0.65 285\n",
      "ell f 0.60 330\n",
      "ell f 0.55 390\n",
      "ell f 0.50 475\n",
      "ell f 0.45 604\n",
      "ell f 0.40 821\n",
      "ell f 0.35 1256\n",
      "ell f 0.30 2524\n",
      "ell f 0.25 24928\n",
      "ell min 0.24 51077\n"
     ]
    }
   ],
   "source": [
    "for result in results:\n",
    "    print(\"{} {} {:.2f} {:.0f}\".format(*result))"
   ]
  },
  {
   "cell_type": "code",
   "execution_count": 100,
   "metadata": {},
   "outputs": [],
   "source": [
    "tokwrapper = TokenizerWrapper(\"Wordpiece\")\n",
    "tokwrapper.fit(pbc.text[lang][edition].values(), 999999999)\n",
    "tokwrapper.tokenizer.encode(list(pbc.text[lang][edition].values())[0]).tokens"
   ]
  },
  {
   "cell_type": "code",
   "execution_count": null,
   "metadata": {},
   "outputs": [],
   "source": [
    "len(tokwrapper.tokenizer.get_vocab())"
   ]
  },
  {
   "cell_type": "code",
   "execution_count": null,
   "metadata": {},
   "outputs": [],
   "source": []
  },
  {
   "cell_type": "markdown",
   "metadata": {},
   "source": [
    "# PLAY AROUND"
   ]
  },
  {
   "cell_type": "code",
   "execution_count": 7,
   "metadata": {},
   "outputs": [],
   "source": [
    "from embedder import TokenizerWrapper"
   ]
  },
  {
   "cell_type": "code",
   "execution_count": 8,
   "metadata": {},
   "outputs": [],
   "source": [
    "def get_tokenization_length(tok, data):\n",
    "    total = 0\n",
    "    for sentence in data:\n",
    "        total += len(tok.tokenize(sentence))\n",
    "    return total"
   ]
  },
  {
   "cell_type": "code",
   "execution_count": 23,
   "metadata": {},
   "outputs": [],
   "source": [
    "data = pbc.text[\"zho\"][\"zho_newworld\"].values()\n",
    "#data = pbc.text[\"eng\"][\"eng_newworld2013\"].values()"
   ]
  },
  {
   "cell_type": "code",
   "execution_count": 24,
   "metadata": {},
   "outputs": [
    {
     "data": {
      "text/plain": [
       "3414"
      ]
     },
     "execution_count": 24,
     "metadata": {},
     "output_type": "execute_result"
    }
   ],
   "source": [
    "charwrap = TokenizerWrapper(\"BPE\")\n",
    "charwrap.fit(data, 0)\n",
    "char_types = charwrap.tokenizer.get_vocab_size()\n",
    "char_types"
   ]
  },
  {
   "cell_type": "code",
   "execution_count": 15,
   "metadata": {},
   "outputs": [
    {
     "data": {
      "text/plain": [
       "100000"
      ]
     },
     "execution_count": 15,
     "metadata": {},
     "output_type": "execute_result"
    }
   ],
   "source": [
    "maxwrap = TokenizerWrapper(\"BPE\")\n",
    "maxwrap.fit(data, 100000)\n",
    "maxwrap.tokenizer.get_vocab_size()"
   ]
  },
  {
   "cell_type": "code",
   "execution_count": 25,
   "metadata": {},
   "outputs": [
    {
     "name": "stdout",
     "output_type": "stream",
     "text": [
      "50000 0.01653416016448563\n"
     ]
    }
   ],
   "source": [
    "rates = []\n",
    "#for size in [129, 500, 1000, 5000, 10000, 18000]:\n",
    "#for size in [6189, 7000, 10000, 15000, 20000, 30000]:\n",
    "#for size in [128, 500, 1000, 5000, 10000, 18000, 40000]:\n",
    "#for size in [6189, 7000, 10000, 30000, 50000, 75000, 90000]:\n",
    "for size in [50000]:\n",
    "    curwrap = TokenizerWrapper(\"BPE\")\n",
    "    curwrap.fit(data, size)\n",
    "    types = curwrap.tokenizer.get_vocab_size()\n",
    "    rate = (get_tokenization_length(curwrap, data) / types) / (get_tokenization_length(charwrap, data) / char_types)\n",
    "    \n",
    "    #subtract = 1 / (get_tokenization_length(charwrap, data) / char_types)\n",
    "    rates.append(rate)\n",
    "    print(size, rate)"
   ]
  },
  {
   "cell_type": "code",
   "execution_count": null,
   "metadata": {},
   "outputs": [],
   "source": []
  },
  {
   "cell_type": "code",
   "execution_count": 38,
   "metadata": {},
   "outputs": [
    {
     "data": {
      "text/plain": [
       "['上帝 説 : “ ',\n",
       " '水',\n",
       " ' 和 水',\n",
       " ' 之間',\n",
       " ' 要 有 ',\n",
       " '天空',\n",
       " ' ， 把 ',\n",
       " '水上 ',\n",
       " '下 ',\n",
       " '分開 。 ”']"
      ]
     },
     "execution_count": 38,
     "metadata": {},
     "output_type": "execute_result"
    }
   ],
   "source": [
    "curwrap.tokenize(list(data)[5])"
   ]
  },
  {
   "cell_type": "code",
   "execution_count": 39,
   "metadata": {},
   "outputs": [
    {
     "data": {
      "text/plain": [
       "['Then God ',\n",
       " 'said : “ ',\n",
       " 'Let ',\n",
       " 'there ',\n",
       " 'be ',\n",
       " 'an ',\n",
       " 'ex',\n",
       " 'pan',\n",
       " 'se ',\n",
       " 'between the ',\n",
       " 'waters ',\n",
       " ', and let ',\n",
       " 'there ',\n",
       " 'be ',\n",
       " 'a ',\n",
       " 'division ',\n",
       " 'between the ',\n",
       " 'waters ',\n",
       " 'and the ',\n",
       " 'waters ',\n",
       " '. ”']"
      ]
     },
     "execution_count": 39,
     "metadata": {},
     "output_type": "execute_result"
    }
   ],
   "source": [
    "engwrap.tokenize(list(pbc.text[\"eng\"][\"eng_newworld2013\"].values())[5])"
   ]
  },
  {
   "cell_type": "code",
   "execution_count": 26,
   "metadata": {},
   "outputs": [
    {
     "data": {
      "text/plain": [
       "8500"
      ]
     },
     "execution_count": 26,
     "metadata": {},
     "output_type": "execute_result"
    }
   ],
   "source": [
    "engwrap = TokenizerWrapper(\"BPE\")\n",
    "engwrap.fit(list(pbc.text[\"eng\"][\"eng_newworld2013\"].values()), 8500)\n",
    "engwrap.tokenizer.get_vocab_size()"
   ]
  },
  {
   "cell_type": "code",
   "execution_count": 21,
   "metadata": {},
   "outputs": [
    {
     "data": {
      "text/plain": [
       "'Now the earth was formless and desolate , and there was darkness upon the surface of the watery deep , and God’s active force was moving about over the surface of the waters .'"
      ]
     },
     "execution_count": 21,
     "metadata": {},
     "output_type": "execute_result"
    }
   ],
   "source": []
  },
  {
   "cell_type": "code",
   "execution_count": 22,
   "metadata": {},
   "outputs": [
    {
     "data": {
      "text/plain": [
       "'大地 混沌 蒼茫 ， 深淵 的 表面 一 片 黑暗 。 上帝 發出 的 動力 運行 在 水面 上 。'"
      ]
     },
     "execution_count": 22,
     "metadata": {},
     "output_type": "execute_result"
    }
   ],
   "source": [
    "list(pbc.text[\"zho\"][\"zho_newworld\"].values())[1]"
   ]
  },
  {
   "cell_type": "code",
   "execution_count": 26,
   "metadata": {},
   "outputs": [
    {
     "data": {
      "text/plain": [
       "[1.0,\n",
       " 0.12341619773240924,\n",
       " 0.051784732998657615,\n",
       " 0.007895423405574503,\n",
       " 0.0037609070598380897,\n",
       " 0.0020577553373012838]"
      ]
     },
     "execution_count": 26,
     "metadata": {},
     "output_type": "execute_result"
    }
   ],
   "source": [
    "rates"
   ]
  },
  {
   "cell_type": "code",
   "execution_count": 31,
   "metadata": {},
   "outputs": [
    {
     "data": {
      "text/plain": [
       "[1.0,\n",
       " 0.7231187038384375,\n",
       " 0.4593342872879279,\n",
       " 0.2931013337236098,\n",
       " 0.2160691452252764,\n",
       " 0.14185256582234743]"
      ]
     },
     "execution_count": 31,
     "metadata": {},
     "output_type": "execute_result"
    }
   ],
   "source": [
    "rates"
   ]
  },
  {
   "cell_type": "markdown",
   "metadata": {},
   "source": [
    "# get compatible sizes\n"
   ]
  },
  {
   "cell_type": "code",
   "execution_count": 40,
   "metadata": {},
   "outputs": [],
   "source": [
    "datazho = pbc.text[\"zho\"][\"zho_newworld\"].values()\n",
    "dataeng = pbc.text[\"eng\"][\"eng_newworld2013\"].values()"
   ]
  },
  {
   "cell_type": "code",
   "execution_count": 55,
   "metadata": {},
   "outputs": [
    {
     "data": {
      "text/plain": [
       "685677"
      ]
     },
     "execution_count": 55,
     "metadata": {},
     "output_type": "execute_result"
    }
   ],
   "source": [
    "charwrap = TokenizerWrapper(\"BPE\")\n",
    "charwrap.fit(datazho, 0)\n",
    "char_types = charwrap.tokenizer.get_vocab_size()\n",
    "curwrap = TokenizerWrapper(\"BPE\")\n",
    "curwrap.fit(datazho, 10000)\n",
    "types = curwrap.tokenizer.get_vocab_size()\n",
    "#rate = (get_tokenization_length(curwrap, datazho) / types) / (get_tokenization_length(charwrap, datazho) / char_types)\n",
    "rate = get_tokenization_length(curwrap, datazho)\n",
    "rate"
   ]
  },
  {
   "cell_type": "code",
   "execution_count": 56,
   "metadata": {},
   "outputs": [
    {
     "data": {
      "text/plain": [
       "676043"
      ]
     },
     "execution_count": 56,
     "metadata": {},
     "output_type": "execute_result"
    }
   ],
   "source": [
    "echarwrap = TokenizerWrapper(\"BPE\")\n",
    "echarwrap.fit(dataeng, 0)\n",
    "char_types = echarwrap.tokenizer.get_vocab_size()\n",
    "ecurwrap = TokenizerWrapper(\"BPE\")\n",
    "ecurwrap.fit(dataeng, 11000)\n",
    "types = ecurwrap.tokenizer.get_vocab_size()\n",
    "#rate = (get_tokenization_length(ecurwrap, dataeng) / types) / (get_tokenization_length(echarwrap, dataeng) / char_types)\n",
    "rate = get_tokenization_length(ecurwrap, dataeng)\n",
    "rate"
   ]
  },
  {
   "cell_type": "code",
   "execution_count": 64,
   "metadata": {},
   "outputs": [
    {
     "data": {
      "text/plain": [
       "['Now the ',\n",
       " 'earth ',\n",
       " 'was ',\n",
       " 'form',\n",
       " 'less ',\n",
       " 'and ',\n",
       " 'desolate ',\n",
       " ', and there was ',\n",
       " 'darkness ',\n",
       " 'upon the ',\n",
       " 'surface of the ',\n",
       " 'water',\n",
       " 'y ',\n",
       " 'deep ',\n",
       " ', and ',\n",
       " 'God’s ',\n",
       " 'ac',\n",
       " 'ti',\n",
       " 've ',\n",
       " 'force ',\n",
       " 'was ',\n",
       " 'moving ',\n",
       " 'about ',\n",
       " 'over the ',\n",
       " 'surface of the ',\n",
       " 'waters .']"
      ]
     },
     "execution_count": 64,
     "metadata": {},
     "output_type": "execute_result"
    }
   ],
   "source": [
    "ecurwrap.tokenize(list(dataeng)[1])"
   ]
  },
  {
   "cell_type": "code",
   "execution_count": 61,
   "metadata": {},
   "outputs": [
    {
     "data": {
      "text/plain": [
       "['最初', ' ， 上帝 ', '創', '造 了 ', '天', '地 。']"
      ]
     },
     "execution_count": 61,
     "metadata": {},
     "output_type": "execute_result"
    }
   ],
   "source": [
    "curwrap.tokenize(list(datazho)[0])"
   ]
  },
  {
   "cell_type": "markdown",
   "metadata": {},
   "source": [
    "# plots for paper"
   ]
  },
  {
   "cell_type": "code",
   "execution_count": 1,
   "metadata": {},
   "outputs": [],
   "source": [
    "from data import PBC\n",
    "from embedder import TokenizerWrapper\n",
    "from get_vocab_sizes import Measure"
   ]
  },
  {
   "cell_type": "code",
   "execution_count": 2,
   "metadata": {},
   "outputs": [
    {
     "name": "stderr",
     "output_type": "stream",
     "text": [
      "100%|██████████| 4/4 [00:00<00:00,  6.20it/s]\n"
     ]
    }
   ],
   "source": [
    "pbc = PBC(\"/Users/philipp/Dropbox/data/2017_bible/corpus/\")\n",
    "pbc.load_editions([\"eng_newworld2013\", \"deu_newworld\", \"zho_newworld\", \"swh_newworld\"])"
   ]
  },
  {
   "cell_type": "code",
   "execution_count": 3,
   "metadata": {},
   "outputs": [],
   "source": [
    "tok = TokenizerWrapper(\"BPE\", \"\")"
   ]
  },
  {
   "cell_type": "code",
   "execution_count": 4,
   "metadata": {},
   "outputs": [],
   "source": [
    "zho = Measure(list(pbc.text[\"zho\"][\"zho_newworld\"].values()), tok)\n",
    "eng = Measure(list(pbc.text[\"eng\"][\"eng_newworld2013\"].values()), tok)"
   ]
  },
  {
   "cell_type": "code",
   "execution_count": 5,
   "metadata": {},
   "outputs": [
    {
     "name": "stdout",
     "output_type": "stream",
     "text": [
      "3413 (1.0, 1.0, 1.0)\n",
      "3500 (0.6644770083261706, 0.6481498589787276, 0.6484976013123148)\n",
      "4000 (0.5205395421259298, 0.444280499204481, 0.4450763228260081)\n",
      "5000 (0.45282089197401043, 0.3091861050398543, 0.3101600202409889)\n",
      "7500 (0.38925461570816866, 0.17718870107035836, 0.17835604636413263)\n",
      "10000 (0.35827196037296644, 0.12231404727133074, 0.12346836968372853)\n",
      "20000 (0.3021294827951062, 0.05157350271312462, 0.05243925496912157)\n",
      "30000 (0.27491829275620544, 0.03128570171565618, 0.032100166461361296)\n",
      "40000 (0.2567595599434646, 0.0219144284411747, 0.02267658073647687)\n"
     ]
    }
   ],
   "source": [
    "results_zho = {}\n",
    "for size in [3413, 3500, 4000, 5000, 7500, 10000, 20000, 30000, 40000]:\n",
    "    results_zho[size] = zho.get_measures(size)\n",
    "    print(size, results_zho[size])"
   ]
  },
  {
   "cell_type": "code",
   "execution_count": 8,
   "metadata": {},
   "outputs": [
    {
     "ename": "TypeError",
     "evalue": "Can't convert '最初 ， 上帝 創造 了 天地 。' to PyBool",
     "output_type": "error",
     "traceback": [
      "\u001b[0;31m---------------------------------------------------------------------------\u001b[0m",
      "\u001b[0;31mTypeError\u001b[0m                                 Traceback (most recent call last)",
      "\u001b[0;32m<ipython-input-8-4f16eea1a542>\u001b[0m in \u001b[0;36m<module>\u001b[0;34m\u001b[0m\n\u001b[0;32m----> 1\u001b[0;31m \u001b[0mzho\u001b[0m\u001b[0;34m.\u001b[0m\u001b[0mtokenizer\u001b[0m\u001b[0;34m.\u001b[0m\u001b[0mtokenizer\u001b[0m\u001b[0;34m.\u001b[0m\u001b[0mget_vocab_size\u001b[0m\u001b[0;34m(\u001b[0m\u001b[0mlist\u001b[0m\u001b[0;34m(\u001b[0m\u001b[0mpbc\u001b[0m\u001b[0;34m.\u001b[0m\u001b[0mtext\u001b[0m\u001b[0;34m[\u001b[0m\u001b[0;34m\"zho\"\u001b[0m\u001b[0;34m]\u001b[0m\u001b[0;34m[\u001b[0m\u001b[0;34m\"zho_newworld\"\u001b[0m\u001b[0;34m]\u001b[0m\u001b[0;34m.\u001b[0m\u001b[0mvalues\u001b[0m\u001b[0;34m(\u001b[0m\u001b[0;34m)\u001b[0m\u001b[0;34m)\u001b[0m\u001b[0;34m[\u001b[0m\u001b[0;36m0\u001b[0m\u001b[0;34m]\u001b[0m\u001b[0;34m)\u001b[0m\u001b[0;34m\u001b[0m\u001b[0;34m\u001b[0m\u001b[0m\n\u001b[0m",
      "\u001b[0;31mTypeError\u001b[0m: Can't convert '最初 ， 上帝 創造 了 天地 。' to PyBool"
     ]
    }
   ],
   "source": [
    "zho.tokenizer.tokenizer.get_vocab_size()"
   ]
  },
  {
   "cell_type": "code",
   "execution_count": 9,
   "metadata": {},
   "outputs": [
    {
     "data": {
      "text/plain": [
       "['最初', ' ， 上帝 ', '創', '造 了 天', '地 。']"
      ]
     },
     "execution_count": 9,
     "metadata": {},
     "output_type": "execute_result"
    }
   ],
   "source": [
    "zho.tokenizer.tokenize(list(pbc.text[\"zho\"][\"zho_newworld\"].values())[0])"
   ]
  },
  {
   "cell_type": "code",
   "execution_count": 17,
   "metadata": {},
   "outputs": [
    {
     "data": {
      "text/plain": [
       "(378311, 100000, 83296)"
      ]
     },
     "execution_count": 17,
     "metadata": {},
     "output_type": "execute_result"
    }
   ],
   "source": [
    "eng.get_tokenization_length(100000)"
   ]
  },
  {
   "cell_type": "code",
   "execution_count": 13,
   "metadata": {},
   "outputs": [
    {
     "name": "stdout",
     "output_type": "stream",
     "text": [
      "84 (1.0, 1.0, 1.0)\n",
      "100 (0.8043385291602008, 0.6756443644945687, 0.6688709874069039)\n",
      "150 (0.6423100272125011, 0.3596936152390006, 0.3523784177068582)\n",
      "200 (0.573882293285583, 0.2410305631799449, 0.23369433592557246)\n",
      "500 (0.44604471650409366, 0.07493551237268774, 0.07176686884689083)\n",
      "1000 (0.38424186772112656, 0.03227631688857463, 0.0307861131338428)\n",
      "5000 (0.3031234962828406, 0.005092474737551722, 0.004928330151542377)\n",
      "10000 (0.2906128636421927, 0.0024411480545944186, 0.002466790182414658)\n",
      "50000 (0.286871880062637, 0.0013530172894588156, 0.0016134756176098765)\n",
      "100000 (0.286871880062637, 0.0013530172894588156, 0.0016134756176098765)\n"
     ]
    }
   ],
   "source": [
    "results_eng = {}\n",
    "for size in [84, 100, 150, 200, 500, 1000, 5000, 10000, 50000, 100000]:\n",
    "    results_eng[size] = eng.get_measures(size)\n",
    "    print(size, results_eng[size])"
   ]
  },
  {
   "cell_type": "code",
   "execution_count": 18,
   "metadata": {},
   "outputs": [
    {
     "data": {
      "text/plain": [
       "['Then God said : “ Let the earth ',\n",
       " 'cause ',\n",
       " 'grass to sprout ',\n",
       " ', seed-bearing plants and ',\n",
       " 'fruit trees ',\n",
       " 'according to their kinds , ',\n",
       " 'yielding fruit along with ',\n",
       " 'seed ',\n",
       " 'on the earth ',\n",
       " '. ” And it was so .']"
      ]
     },
     "execution_count": 18,
     "metadata": {},
     "output_type": "execute_result"
    }
   ],
   "source": [
    "eng.tokenizer.tokenize(list(pbc.text[\"eng\"][\"eng_newworld2013\"].values())[10])"
   ]
  },
  {
   "cell_type": "code",
   "execution_count": 16,
   "metadata": {},
   "outputs": [
    {
     "data": {
      "text/plain": [
       "31062"
      ]
     },
     "execution_count": 16,
     "metadata": {},
     "output_type": "execute_result"
    }
   ],
   "source": [
    "len(list(pbc.text[\"eng\"][\"eng_newworld2013\"].values()))"
   ]
  },
  {
   "cell_type": "code",
   "execution_count": null,
   "metadata": {},
   "outputs": [],
   "source": []
  }
 ],
 "metadata": {
  "kernelspec": {
   "display_name": "Python 3",
   "language": "python",
   "name": "python3"
  },
  "language_info": {
   "codemirror_mode": {
    "name": "ipython",
    "version": 3
   },
   "file_extension": ".py",
   "mimetype": "text/x-python",
   "name": "python",
   "nbconvert_exporter": "python",
   "pygments_lexer": "ipython3",
   "version": "3.7.4"
  }
 },
 "nbformat": 4,
 "nbformat_minor": 2
}
